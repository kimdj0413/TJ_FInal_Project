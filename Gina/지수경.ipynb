{
 "cells": [
  {
   "cell_type": "code",
   "execution_count": 32,
   "metadata": {},
   "outputs": [
    {
     "name": "stdout",
     "output_type": "stream",
     "text": [
      "<class 'pandas.core.frame.DataFrame'>\n",
      "RangeIndex: 119127 entries, 0 to 119126\n",
      "Data columns (total 2 columns):\n",
      " #   Column    Non-Null Count   Dtype \n",
      "---  ------    --------------   ----- \n",
      " 0   Question  119127 non-null  object\n",
      " 1   Answer    115789 non-null  object\n",
      "dtypes: object(2)\n",
      "memory usage: 1.8+ MB\n",
      "None\n",
      "Question       0\n",
      "Answer      3338\n",
      "dtype: int64\n",
      "질문자님 안녕하세요.​주식 주문관련금액주문관련금액에 8만원이 있는데 출금은 못하나고 주문만 할수있는건가요??​출금은 무조건 마지막 매도를 기준으로 D+2거래일이 지나야 출금이 가능합니다.출금계획이 있으시다면 D+2거래일 동안 매매를 하지 않는 것이 계획한대로 출금하는데 원활 할 수 있습니다.​답변이 조금이나마 도움되셨길 바라겠습니다^^[지식인 답변을 댓가로 네임카드 업체를 이용중입니다.]\n"
     ]
    }
   ],
   "source": [
    "import pandas as pd\n",
    "\n",
    "df = pd.read_csv('C:\\TJ_FInal_Project\\Gina\\지식인크롤링\\combined_output.csv')\n",
    "print(df.info())\n",
    "print(df.isna().sum())\n",
    "print(df.iloc[1,1])"
   ]
  },
  {
   "cell_type": "code",
   "execution_count": 33,
   "metadata": {},
   "outputs": [
    {
     "data": {
      "text/html": [
       "<div>\n",
       "<style scoped>\n",
       "    .dataframe tbody tr th:only-of-type {\n",
       "        vertical-align: middle;\n",
       "    }\n",
       "\n",
       "    .dataframe tbody tr th {\n",
       "        vertical-align: top;\n",
       "    }\n",
       "\n",
       "    .dataframe thead th {\n",
       "        text-align: right;\n",
       "    }\n",
       "</style>\n",
       "<table border=\"1\" class=\"dataframe\">\n",
       "  <thead>\n",
       "    <tr style=\"text-align: right;\">\n",
       "      <th></th>\n",
       "      <th>Question</th>\n",
       "      <th>Answer</th>\n",
       "    </tr>\n",
       "  </thead>\n",
       "  <tbody>\n",
       "    <tr>\n",
       "      <th>126</th>\n",
       "      <td>예수금 출금이 안됩니다. 저번주 22일 목요일에 600만원가량을 매도하였고오늘 출금...</td>\n",
       "      <td>NaN</td>\n",
       "    </tr>\n",
       "    <tr>\n",
       "      <th>2220</th>\n",
       "      <td>(고등학생) 농협체크카드 발급 준비물! 인터넷 쇼핑몰에서 뭘 구매하고 싶어도 카드가...</td>\n",
       "      <td>NaN</td>\n",
       "    </tr>\n",
       "    <tr>\n",
       "      <th>2222</th>\n",
       "      <td>ATM으로 무통장입금 하는법 안녕하세요 무통장 입금을해야하는데 처음이라 잘몰라서 몇...</td>\n",
       "      <td>NaN</td>\n",
       "    </tr>\n",
       "    <tr>\n",
       "      <th>2224</th>\n",
       "      <td>국민은행에서 적금을 하나들려고 하는데요 직장생활한지는 얼마 안됐구요어디 모아두는데가...</td>\n",
       "      <td>NaN</td>\n",
       "    </tr>\n",
       "    <tr>\n",
       "      <th>2232</th>\n",
       "      <td>송금 계좌이체 안녕하세요이거 내공 100드릴테니까 정확하게 질문한 거 다 답해주시면...</td>\n",
       "      <td>NaN</td>\n",
       "    </tr>\n",
       "    <tr>\n",
       "      <th>...</th>\n",
       "      <td>...</td>\n",
       "      <td>...</td>\n",
       "    </tr>\n",
       "    <tr>\n",
       "      <th>117096</th>\n",
       "      <td>한국투자증권 제가 한국투자증권 통장이 있는데요 영업점을 가지않고 인터넷으로 인터넷뱅...</td>\n",
       "      <td>NaN</td>\n",
       "    </tr>\n",
       "    <tr>\n",
       "      <th>117097</th>\n",
       "      <td>Isa계좌... Isa계좌 해 놨는데, 이건 계속 존재하는 상품인가요?만기 되면 또...</td>\n",
       "      <td>NaN</td>\n",
       "    </tr>\n",
       "    <tr>\n",
       "      <th>117098</th>\n",
       "      <td>계좌번호 잊어버려었요 만약 진주 지점없어서 대리인이 안산지점에서하면 가족관계증명서하...</td>\n",
       "      <td>NaN</td>\n",
       "    </tr>\n",
       "    <tr>\n",
       "      <th>117099</th>\n",
       "      <td>계좌번호 실종 전화하면 등록된 정보2가지 알면된다고한다고했는데.2가지정보가 뭐예요?</td>\n",
       "      <td>NaN</td>\n",
       "    </tr>\n",
       "    <tr>\n",
       "      <th>117100</th>\n",
       "      <td>삼성증권 연금저축 개설시 계약금액 18,000,000원... 삼성증권 연금저축 개설...</td>\n",
       "      <td>NaN</td>\n",
       "    </tr>\n",
       "  </tbody>\n",
       "</table>\n",
       "<p>3338 rows × 2 columns</p>\n",
       "</div>"
      ],
      "text/plain": [
       "                                                 Question Answer\n",
       "126     예수금 출금이 안됩니다. 저번주 22일 목요일에 600만원가량을 매도하였고오늘 출금...    NaN\n",
       "2220    (고등학생) 농협체크카드 발급 준비물! 인터넷 쇼핑몰에서 뭘 구매하고 싶어도 카드가...    NaN\n",
       "2222    ATM으로 무통장입금 하는법 안녕하세요 무통장 입금을해야하는데 처음이라 잘몰라서 몇...    NaN\n",
       "2224    국민은행에서 적금을 하나들려고 하는데요 직장생활한지는 얼마 안됐구요어디 모아두는데가...    NaN\n",
       "2232    송금 계좌이체 안녕하세요이거 내공 100드릴테니까 정확하게 질문한 거 다 답해주시면...    NaN\n",
       "...                                                   ...    ...\n",
       "117096  한국투자증권 제가 한국투자증권 통장이 있는데요 영업점을 가지않고 인터넷으로 인터넷뱅...    NaN\n",
       "117097  Isa계좌... Isa계좌 해 놨는데, 이건 계속 존재하는 상품인가요?만기 되면 또...    NaN\n",
       "117098  계좌번호 잊어버려었요 만약 진주 지점없어서 대리인이 안산지점에서하면 가족관계증명서하...    NaN\n",
       "117099     계좌번호 실종 전화하면 등록된 정보2가지 알면된다고한다고했는데.2가지정보가 뭐예요?    NaN\n",
       "117100  삼성증권 연금저축 개설시 계약금액 18,000,000원... 삼성증권 연금저축 개설...    NaN\n",
       "\n",
       "[3338 rows x 2 columns]"
      ]
     },
     "execution_count": 33,
     "metadata": {},
     "output_type": "execute_result"
    }
   ],
   "source": [
    "df_missing = df[df.isnull().any(axis=1)]  # 결측값이 있는 행만 추출\n",
    "df_missing"
   ]
  },
  {
   "cell_type": "code",
   "execution_count": 34,
   "metadata": {},
   "outputs": [
    {
     "name": "stdout",
     "output_type": "stream",
     "text": [
      "                                                 Question  \\\n",
      "0       20영업일 계좌개설 제한 2021.06.09 에 계좌개설했는데 20영업일 계좌개설 ...   \n",
      "1       주식 주문관련금액 주문관련금액에 8만원이 있는데 출금은 못하나고 주문만 할수있는건가요??   \n",
      "2       주식 출금가능금액 질문이요... 제가 학생이라 10만원정도가 있는데 그중 8만정도가...   \n",
      "3       안녕하세요, 가치 투자의 진정한 뜻이... 안녕하세요,가치 투자의 진정한 뜻이 궁금...   \n",
      "4       [주식] 체결 후 입금이 안 되네요~ 주식을 매도 했습니다 .보유 주식에도 빠져 나...   \n",
      "...                                                   ...   \n",
      "119122                                                NaN   \n",
      "119123                                                NaN   \n",
      "119124                                                NaN   \n",
      "119125                                                NaN   \n",
      "119126                                                NaN   \n",
      "\n",
      "                                                   Answer  \n",
      "0       질문자님 안녕하세요.​20영업일 계좌개설 제한2021.06.09 에 계좌개설했는데 ...  \n",
      "1       질문자님 안녕하세요.​주식 주문관련금액주문관련금액에 8만원이 있는데 출금은 못하나고...  \n",
      "2       질문자님 안녕하세요.​주식 출금가능금액 질문이요...제가 학생이라 10만원정도가 있...  \n",
      "3       질문자님 안녕하세요.​안녕하세요,가치 투자의 진정한 뜻이 궁금합니다.그건 어느 시점...  \n",
      "4       질문자님 안녕하세요.​[주식] 체결 후 입금이 안 되네요~​주식을 매도 했습니다 ....  \n",
      "...                                                   ...  \n",
      "119122                                                NaN  \n",
      "119123                                                NaN  \n",
      "119124                                                NaN  \n",
      "119125                                                NaN  \n",
      "119126                                                NaN  \n",
      "\n",
      "[119127 rows x 2 columns]\n"
     ]
    }
   ],
   "source": [
    "df_cleaned = df.dropna()  # 결측값이 있는 행 제거\n",
    "df_cleaned.reset_index(drop=True, inplace=True)\n",
    "\n",
    "# 제거할 여러 문구 리스트\n",
    "remove_phrases = [\n",
    "    \"질문자님 안녕하세요.\",\n",
    "    \"안녕하세요.주식에 주자도 모르는 초보인데요...\",\n",
    "    \"답변이 조금이나마 도움되셨길 바라겠습니다^^[지식인 답변을 댓가로 네임카드 업체를 이용중입니다.]\"\n",
    "    \"답변이 조금이나마 도움되셨길 바라겠습니다\"\n",
    "    \"안녕하세요.\"\n",
    "    \"질문자님\"\n",
    "    \"안녕하세요~ 답변이 도움되셨음 좋겠네요~ 좋은 하루 되세요~~\"\n",
    "    \"안녕하세요 해외선물 소망에셋 입니다^-^​질문자님의 소중한 글을 읽어 보았습니다.\"\n",
    "    \"✥ 안녕하세요, 주식,증권 분야 지식iN 절대신 TesTia입니다. ✥​✅️\"\n",
    "    \"​● 파이코인(Pi Coin) 소개 및 초간단 채굴방법​, 전망https://m.blog.naver.com/ss138027/222219137601​● 비코인(Bee Coin) 소개 및 초간단 채굴방법​​​https://m.blog.naver.com/ss138027/222219415770​​● 비키원코인(VikiOne Coin) 소개 및 초간단 채굴방법https://m.blog.naver.com/ss138027/222353172038​● 타임스토프 소개 및 초간단 채굴방법​https://m.blog.naver.com/ss138027/222219382859​​● 이글코인(Eagle Coin) 소개 및 초간단 채굴방법https://m.blog.naver.com/ss138027/222266420936​​● 파이퓨처스 소개 및 초간단 채굴방법https://m.blog.naver.com/ss138027/222225334152​​● 알파코인(Alpha Coin) 소개 및 초간단 채굴방법https://m.blog.naver.com/ss138027/222375953320​● 스페라엑스(Sperax)코인 소개 및 초간단 채굴방법​https://m.blog.naver.com/ss138027/222274514468​​● Vswap코인 소개 및 초간단 채굴방법https://m.blog.naver.com/ss138027/222241482957​​● 앤트코인(Ant 코인) 소개 및 초간단 채굴방법​https://m.blog.naver.com/ss138027/222283009663​​● 미도인코인 소개 및 초간단 채굴방법https://m.blog.naver.com/ss138027/222219314637​​● 페이팔(Q코인) 소개 및 초간단 채굴방법​​https://m.blog.naver.com/ss138027/222290197507​​#파이코인#비코인#pi코인#bee코인#이글코인#타임스토프\"\n",
    "    \n",
    "]\n",
    "\n",
    "# Question과 Answer 컬럼에서 여러 문구 제거\n",
    "for phrase in remove_phrases:\n",
    "    df['Question'] = df_cleaned['Question'].str.replace(phrase, '', regex=False)\n",
    "    df['Answer'] = df_cleaned['Answer'].str.replace(phrase, '', regex=False)\n",
    "\n",
    "print(df)"
   ]
  },
  {
   "cell_type": "code",
   "execution_count": 35,
   "metadata": {},
   "outputs": [],
   "source": [
    "df_cleaned.to_csv('cleaned_combined_output.csv', index=False)  # 결측값 제거 후 저장"
   ]
  },
  {
   "cell_type": "code",
   "execution_count": 36,
   "metadata": {},
   "outputs": [
    {
     "name": "stdout",
     "output_type": "stream",
     "text": [
      "                                                 Question  \\\n",
      "0       20영업일 계좌개설 제한 2021.06.09 에 계좌개설했는데 20영업일 계좌개설 ...   \n",
      "1       주식 주문관련금액 주문관련금액에 8만원이 있는데 출금은 못하나고 주문만 할수있는건가요??   \n",
      "2       주식 출금가능금액 질문이요... 제가 학생이라 10만원정도가 있는데 그중 8만정도가...   \n",
      "3       안녕하세요, 가치 투자의 진정한 뜻이... 안녕하세요,가치 투자의 진정한 뜻이 궁금...   \n",
      "4       [주식] 체결 후 입금이 안 되네요~ 주식을 매도 했습니다 .보유 주식에도 빠져 나...   \n",
      "...                                                   ...   \n",
      "115784  울분 화병은 가만있다가 과거 안좋은기억 때문에 울화가치밀어서 가슴이 답답해서 소리지...   \n",
      "115785  고1 수학 공부 지금 예비고1이라 고1수학 선행하고 있는데 지금 다항식의 연산 기본...   \n",
      "115786  상가 임대차에 관한 문의드립니다 기존매장 인수를하는데 기존 상가임대차계약이 25년 ...   \n",
      "115787  군대 질문 요번에 3월에 가는 해병대 동반입대에 지원했는데 만약에 1차합격을 한 상...   \n",
      "115788  광주 영구 눈썹문신 샵 광주광역시 반영구 눈썹 말구 영구 눈썹 문신 샵들 좀 알려주...   \n",
      "\n",
      "                                                   Answer  \n",
      "0       질문자님 안녕하세요.​20영업일 계좌개설 제한2021.06.09 에 계좌개설했는데 ...  \n",
      "1       질문자님 안녕하세요.​주식 주문관련금액주문관련금액에 8만원이 있는데 출금은 못하나고...  \n",
      "2       질문자님 안녕하세요.​주식 출금가능금액 질문이요...제가 학생이라 10만원정도가 있...  \n",
      "3       질문자님 안녕하세요.​안녕하세요,가치 투자의 진정한 뜻이 궁금합니다.그건 어느 시점...  \n",
      "4       질문자님 안녕하세요.​[주식] 체결 후 입금이 안 되네요~​주식을 매도 했습니다 ....  \n",
      "...                                                   ...  \n",
      "115784  울분과 화병은 과거의 부당한 대우나 상처로 인해 쌓인 분노와 억울함이 원인이 되는 ...  \n",
      "115785  다항식의 연산 공식은 처음에는 외우는 것이 중요합니다. 하지만, 외우는 것만으로는 ...  \n",
      "115786  **질문 1**​기존 임대차계약이 2025년 3월까지 남아 있는 경우, 임차인은 계...  \n",
      "115787  아닙니다. 동반입대는 한 번만 신청할 수 있습니다. 이미 해병대 동반입대에 1차 합...  \n",
      "115788  네, 알겠습니다. 광주광역시에 있는 영구 눈썹 문신 샵을 몇 군데 알려드리겠습니다....  \n",
      "\n",
      "[115789 rows x 2 columns]\n"
     ]
    }
   ],
   "source": [
    "df = pd.read_csv('cleaned_combined_output.csv')\n",
    "print(df)"
   ]
  },
  {
   "cell_type": "code",
   "execution_count": 37,
   "metadata": {},
   "outputs": [
    {
     "name": "stdout",
     "output_type": "stream",
     "text": [
      "0         20영업일 계좌개설 제한 2021.06.09 에 계좌개설했는데 20영업일 계좌개설 ...\n",
      "1         주식 주문관련금액 주문관련금액에 8만원이 있는데 출금은 못하나고 주문만 할수있는건가요??\n",
      "2         주식 출금가능금액 질문이요... 제가 학생이라 10만원정도가 있는데 그중 8만정도가...\n",
      "3         안녕하세요, 가치 투자의 진정한 뜻이... 안녕하세요,가치 투자의 진정한 뜻이 궁금...\n",
      "4         [주식] 체결 후 입금이 안 되네요~ 주식을 매도 했습니다 .보유 주식에도 빠져 나...\n",
      "                                ...                        \n",
      "115784    울분 화병은 가만있다가 과거 안좋은기억 때문에 울화가치밀어서 가슴이 답답해서 소리지...\n",
      "115785    고1 수학 공부 지금 예비고1이라 고1수학 선행하고 있는데 지금 다항식의 연산 기본...\n",
      "115786    상가 임대차에 관한 문의드립니다 기존매장 인수를하는데 기존 상가임대차계약이 25년 ...\n",
      "115787    군대 질문 요번에 3월에 가는 해병대 동반입대에 지원했는데 만약에 1차합격을 한 상...\n",
      "115788    광주 영구 눈썹문신 샵 광주광역시 반영구 눈썹 말구 영구 눈썹 문신 샵들 좀 알려주...\n",
      "Name: Question, Length: 115789, dtype: object\n",
      "0         질문자님 안녕하세요.​20영업일 계좌개설 제한2021.06.09 에 계좌개설했는데 ...\n",
      "1         질문자님 안녕하세요.​주식 주문관련금액주문관련금액에 8만원이 있는데 출금은 못하나고...\n",
      "2         질문자님 안녕하세요.​주식 출금가능금액 질문이요...제가 학생이라 10만원정도가 있...\n",
      "3         질문자님 안녕하세요.​안녕하세요,가치 투자의 진정한 뜻이 궁금합니다.그건 어느 시점...\n",
      "4         질문자님 안녕하세요.​[주식] 체결 후 입금이 안 되네요~​주식을 매도 했습니다 ....\n",
      "                                ...                        \n",
      "115784    울분과 화병은 과거의 부당한 대우나 상처로 인해 쌓인 분노와 억울함이 원인이 되는 ...\n",
      "115785    다항식의 연산 공식은 처음에는 외우는 것이 중요합니다. 하지만, 외우는 것만으로는 ...\n",
      "115786    **질문 1**​기존 임대차계약이 2025년 3월까지 남아 있는 경우, 임차인은 계...\n",
      "115787    아닙니다. 동반입대는 한 번만 신청할 수 있습니다. 이미 해병대 동반입대에 1차 합...\n",
      "115788    네, 알겠습니다. 광주광역시에 있는 영구 눈썹 문신 샵을 몇 군데 알려드리겠습니다....\n",
      "Name: Answer, Length: 115789, dtype: object\n"
     ]
    }
   ],
   "source": [
    "question_list = df['Question']\n",
    "answer_list = df['Answer']\n",
    "\n",
    "print(question_list)\n",
    "print(answer_list)"
   ]
  },
  {
   "cell_type": "code",
   "execution_count": 38,
   "metadata": {},
   "outputs": [
    {
     "ename": "TypeError",
     "evalue": "expected string or bytes-like object",
     "output_type": "error",
     "traceback": [
      "\u001b[1;31m---------------------------------------------------------------------------\u001b[0m",
      "\u001b[1;31mTypeError\u001b[0m                                 Traceback (most recent call last)",
      "Cell \u001b[1;32mIn[38], line 20\u001b[0m\n\u001b[0;32m     17\u001b[0m             cleaned_strings\u001b[38;5;241m.\u001b[39mappend(\u001b[38;5;124m'\u001b[39m\u001b[38;5;124m'\u001b[39m)  \u001b[38;5;66;03m# 문자열이 아닌 경우 빈 문자열 추가\u001b[39;00m\n\u001b[0;32m     18\u001b[0m     \u001b[38;5;28;01mreturn\u001b[39;00m cleaned_strings\n\u001b[1;32m---> 20\u001b[0m question_list \u001b[38;5;241m=\u001b[39m \u001b[43mclean_strings\u001b[49m\u001b[43m(\u001b[49m\u001b[43mquestion_list\u001b[49m\u001b[43m)\u001b[49m\n\u001b[0;32m     21\u001b[0m answer_list \u001b[38;5;241m=\u001b[39m clean_strings(answer_list)\n\u001b[0;32m     23\u001b[0m new_df \u001b[38;5;241m=\u001b[39m pd\u001b[38;5;241m.\u001b[39mDataFrame({\n\u001b[0;32m     24\u001b[0m   \u001b[38;5;124m'\u001b[39m\u001b[38;5;124mQuestion\u001b[39m\u001b[38;5;124m'\u001b[39m : question_list,\n\u001b[0;32m     25\u001b[0m   \u001b[38;5;124m'\u001b[39m\u001b[38;5;124mAnswer\u001b[39m\u001b[38;5;124m'\u001b[39m : answer_list\n\u001b[0;32m     26\u001b[0m })\n",
      "Cell \u001b[1;32mIn[38], line 13\u001b[0m, in \u001b[0;36mclean_strings\u001b[1;34m(strings)\u001b[0m\n\u001b[0;32m     11\u001b[0m s \u001b[38;5;241m=\u001b[39m re\u001b[38;5;241m.\u001b[39msub(\u001b[38;5;124mr\u001b[39m\u001b[38;5;124m'\u001b[39m\u001b[38;5;124m\\\u001b[39m\u001b[38;5;124ms+\u001b[39m\u001b[38;5;124m'\u001b[39m, \u001b[38;5;124m'\u001b[39m\u001b[38;5;124m \u001b[39m\u001b[38;5;124m'\u001b[39m, s)            \u001b[38;5;66;03m# 여러 개의 공백을 하나의 공백으로 대치\u001b[39;00m\n\u001b[0;32m     12\u001b[0m s \u001b[38;5;241m=\u001b[39m s\u001b[38;5;241m.\u001b[39mstrip()                         \u001b[38;5;66;03m# 문자열 앞뒤의 공백 제거\u001b[39;00m\n\u001b[1;32m---> 13\u001b[0m s \u001b[38;5;241m=\u001b[39m \u001b[43mre\u001b[49m\u001b[38;5;241;43m.\u001b[39;49m\u001b[43msub\u001b[49m\u001b[43m(\u001b[49m\u001b[38;5;124;43mr\u001b[39;49m\u001b[38;5;124;43m'\u001b[39;49m\u001b[38;5;124;43mhttps?://[^\u001b[39;49m\u001b[38;5;124;43m\\\u001b[39;49m\u001b[38;5;124;43ms]+\u001b[39;49m\u001b[38;5;124;43m'\u001b[39;49m\u001b[43m,\u001b[49m\u001b[43m \u001b[49m\u001b[38;5;124;43m'\u001b[39;49m\u001b[38;5;124;43m'\u001b[39;49m\u001b[43m,\u001b[49m\u001b[43m \u001b[49m\u001b[43mstrings\u001b[49m\u001b[43m)\u001b[49m \u001b[38;5;66;03m# url 패턴 지우기 \u001b[39;00m\n\u001b[0;32m     14\u001b[0m s \u001b[38;5;241m=\u001b[39m re\u001b[38;5;241m.\u001b[39msub(\u001b[38;5;124mr\u001b[39m\u001b[38;5;124m'\u001b[39m\u001b[38;5;124m[^가-힣\u001b[39m\u001b[38;5;124m\\\u001b[39m\u001b[38;5;124ms]\u001b[39m\u001b[38;5;124m'\u001b[39m, \u001b[38;5;124m'\u001b[39m\u001b[38;5;124m'\u001b[39m, s) \u001b[38;5;66;03m# url 패턴 지우기\u001b[39;00m\n\u001b[0;32m     15\u001b[0m cleaned_strings\u001b[38;5;241m.\u001b[39mappend(s)\n",
      "File \u001b[1;32mc:\\ProgramData\\anaconda3\\envs\\dl-dev\\lib\\re.py:210\u001b[0m, in \u001b[0;36msub\u001b[1;34m(pattern, repl, string, count, flags)\u001b[0m\n\u001b[0;32m    203\u001b[0m \u001b[38;5;28;01mdef\u001b[39;00m \u001b[38;5;21msub\u001b[39m(pattern, repl, string, count\u001b[38;5;241m=\u001b[39m\u001b[38;5;241m0\u001b[39m, flags\u001b[38;5;241m=\u001b[39m\u001b[38;5;241m0\u001b[39m):\n\u001b[0;32m    204\u001b[0m \u001b[38;5;250m    \u001b[39m\u001b[38;5;124;03m\"\"\"Return the string obtained by replacing the leftmost\u001b[39;00m\n\u001b[0;32m    205\u001b[0m \u001b[38;5;124;03m    non-overlapping occurrences of the pattern in string by the\u001b[39;00m\n\u001b[0;32m    206\u001b[0m \u001b[38;5;124;03m    replacement repl.  repl can be either a string or a callable;\u001b[39;00m\n\u001b[0;32m    207\u001b[0m \u001b[38;5;124;03m    if a string, backslash escapes in it are processed.  If it is\u001b[39;00m\n\u001b[0;32m    208\u001b[0m \u001b[38;5;124;03m    a callable, it's passed the Match object and must return\u001b[39;00m\n\u001b[0;32m    209\u001b[0m \u001b[38;5;124;03m    a replacement string to be used.\"\"\"\u001b[39;00m\n\u001b[1;32m--> 210\u001b[0m     \u001b[38;5;28;01mreturn\u001b[39;00m \u001b[43m_compile\u001b[49m\u001b[43m(\u001b[49m\u001b[43mpattern\u001b[49m\u001b[43m,\u001b[49m\u001b[43m \u001b[49m\u001b[43mflags\u001b[49m\u001b[43m)\u001b[49m\u001b[38;5;241;43m.\u001b[39;49m\u001b[43msub\u001b[49m\u001b[43m(\u001b[49m\u001b[43mrepl\u001b[49m\u001b[43m,\u001b[49m\u001b[43m \u001b[49m\u001b[43mstring\u001b[49m\u001b[43m,\u001b[49m\u001b[43m \u001b[49m\u001b[43mcount\u001b[49m\u001b[43m)\u001b[49m\n",
      "\u001b[1;31mTypeError\u001b[0m: expected string or bytes-like object"
     ]
    }
   ],
   "source": [
    "import re\n",
    "\n",
    "def clean_strings(strings):\n",
    "    cleaned_strings = []\n",
    "    for s in strings:\n",
    "        if isinstance(s, str):  # 문자열인 경우만 처리\n",
    "            s = re.sub(r'[^\\w\\s.?%]', ' ', s)     # .?% 제외 space로 대치\n",
    "            s = re.sub(r'[\\n\\t]', ' ', s)         # \\n, \\t space로 대치\n",
    "            s = re.sub(r'ㆍ', ' ', s)             # 배꼽 space로 대치\n",
    "            s = re.sub(r'\\.{2,}', ' ', s)         # 두 개 이상의 마침표를 하나의 공백으로 대치\n",
    "            s = re.sub(r'\\s+', ' ', s)            # 여러 개의 공백을 하나의 공백으로 대치\n",
    "            s = s.strip()                         # 문자열 앞뒤의 공백 제거\n",
    "            s = re.sub(r'https?://[^\\s]+', '', strings) # url 패턴 지우기 \n",
    "            s = re.sub(r'[^가-힣\\s]', '', s) # url 패턴 지우기\n",
    "            cleaned_strings.append(s)\n",
    "        else:\n",
    "            cleaned_strings.append('')  # 문자열이 아닌 경우 빈 문자열 추가\n",
    "    return cleaned_strings\n",
    "\n",
    "question_list = clean_strings(question_list)\n",
    "answer_list = clean_strings(answer_list)\n",
    "\n",
    "new_df = pd.DataFrame({\n",
    "  'Question' : question_list,\n",
    "  'Answer' : answer_list\n",
    "})\n",
    "\n",
    "# 중복된 열 제거 \n",
    "df = new_df.drop_duplicates()\n",
    "print(df.duplicated().sum())\n",
    "print(len(df))"
   ]
  },
  {
   "cell_type": "code",
   "execution_count": 8,
   "metadata": {},
   "outputs": [
    {
     "name": "stdout",
     "output_type": "stream",
     "text": [
      "                                                 Question  \\\n",
      "0       20영업일 계좌개설 제한 2021.06.09 에 계좌개설했는데 20영업일 계좌개설 ...   \n",
      "1       주식 주문관련금액 주문관련금액에 8만원이 있는데 출금은 못하나고 주문만 할수있는건가요??   \n",
      "2       주식 출금가능금액 질문이요 제가 학생이라 10만원정도가 있는데 그중 8만정도가 주식...   \n",
      "3       안녕하세요 가치 투자의 진정한 뜻이 안녕하세요 가치 투자의 진정한 뜻이 궁금합니다....   \n",
      "4       주식 체결 후 입금이 안 되네요 주식을 매도 했습니다 .보유 주식에도 빠져 나갔구요...   \n",
      "...                                                   ...   \n",
      "111923  울분 화병은 가만있다가 과거 안좋은기억 때문에 울화가치밀어서 가슴이 답답해서 소리지...   \n",
      "111924  고1 수학 공부 지금 예비고1이라 고1수학 선행하고 있는데 지금 다항식의 연산 기본...   \n",
      "111925  상가 임대차에 관한 문의드립니다 기존매장 인수를하는데 기존 상가임대차계약이 25년 ...   \n",
      "111926  군대 질문 요번에 3월에 가는 해병대 동반입대에 지원했는데 만약에 1차합격을 한 상...   \n",
      "111927  광주 영구 눈썹문신 샵 광주광역시 반영구 눈썹 말구 영구 눈썹 문신 샵들 좀 알려주...   \n",
      "\n",
      "                                                   Answer  \n",
      "0       질문자님 안녕하세요. 20영업일 계좌개설 제한2021.06.09 에 계좌개설했는데 ...  \n",
      "1       질문자님 안녕하세요. 주식 주문관련금액주문관련금액에 8만원이 있는데 출금은 못하나고...  \n",
      "2       질문자님 안녕하세요. 주식 출금가능금액 질문이요 제가 학생이라 10만원정도가 있는데...  \n",
      "3       질문자님 안녕하세요. 안녕하세요 가치 투자의 진정한 뜻이 궁금합니다.그건 어느 시점...  \n",
      "4       질문자님 안녕하세요. 주식 체결 후 입금이 안 되네요 주식을 매도 했습니다 . 보유...  \n",
      "...                                                   ...  \n",
      "111923  울분과 화병은 과거의 부당한 대우나 상처로 인해 쌓인 분노와 억울함이 원인이 되는 ...  \n",
      "111924  다항식의 연산 공식은 처음에는 외우는 것이 중요합니다. 하지만 외우는 것만으로는 부...  \n",
      "111925  질문 1 기존 임대차계약이 2025년 3월까지 남아 있는 경우 임차인은 계약기간이 ...  \n",
      "111926  아닙니다. 동반입대는 한 번만 신청할 수 있습니다. 이미 해병대 동반입대에 1차 합...  \n",
      "111927  네 알겠습니다. 광주광역시에 있는 영구 눈썹 문신 샵을 몇 군데 알려드리겠습니다. ...  \n",
      "\n",
      "[111928 rows x 2 columns]\n"
     ]
    }
   ],
   "source": [
    "df.reset_index(drop=True, inplace=True)\n",
    "print(df)"
   ]
  },
  {
   "cell_type": "code",
   "execution_count": 9,
   "metadata": {},
   "outputs": [
    {
     "data": {
      "text/html": [
       "<div>\n",
       "<style scoped>\n",
       "    .dataframe tbody tr th:only-of-type {\n",
       "        vertical-align: middle;\n",
       "    }\n",
       "\n",
       "    .dataframe tbody tr th {\n",
       "        vertical-align: top;\n",
       "    }\n",
       "\n",
       "    .dataframe thead th {\n",
       "        text-align: right;\n",
       "    }\n",
       "</style>\n",
       "<table border=\"1\" class=\"dataframe\">\n",
       "  <thead>\n",
       "    <tr style=\"text-align: right;\">\n",
       "      <th></th>\n",
       "      <th>Question</th>\n",
       "      <th>Answer</th>\n",
       "    </tr>\n",
       "  </thead>\n",
       "  <tbody>\n",
       "    <tr>\n",
       "      <th>0</th>\n",
       "      <td>20영업일 계좌개설 제한 2021.06.09 에 계좌개설했는데 20영업일 계좌개설 ...</td>\n",
       "      <td>질문자님 안녕하세요. 20영업일 계좌개설 제한2021.06.09 에 계좌개설했는데 ...</td>\n",
       "    </tr>\n",
       "    <tr>\n",
       "      <th>1</th>\n",
       "      <td>주식 주문관련금액 주문관련금액에 8만원이 있는데 출금은 못하나고 주문만 할수있는건가요??</td>\n",
       "      <td>질문자님 안녕하세요. 주식 주문관련금액주문관련금액에 8만원이 있는데 출금은 못하나고...</td>\n",
       "    </tr>\n",
       "    <tr>\n",
       "      <th>2</th>\n",
       "      <td>주식 출금가능금액 질문이요 제가 학생이라 10만원정도가 있는데 그중 8만정도가 주식...</td>\n",
       "      <td>질문자님 안녕하세요. 주식 출금가능금액 질문이요 제가 학생이라 10만원정도가 있는데...</td>\n",
       "    </tr>\n",
       "    <tr>\n",
       "      <th>3</th>\n",
       "      <td>안녕하세요 가치 투자의 진정한 뜻이 안녕하세요 가치 투자의 진정한 뜻이 궁금합니다....</td>\n",
       "      <td>질문자님 안녕하세요. 안녕하세요 가치 투자의 진정한 뜻이 궁금합니다.그건 어느 시점...</td>\n",
       "    </tr>\n",
       "    <tr>\n",
       "      <th>4</th>\n",
       "      <td>주식 체결 후 입금이 안 되네요 주식을 매도 했습니다 .보유 주식에도 빠져 나갔구요...</td>\n",
       "      <td>질문자님 안녕하세요. 주식 체결 후 입금이 안 되네요 주식을 매도 했습니다 . 보유...</td>\n",
       "    </tr>\n",
       "    <tr>\n",
       "      <th>...</th>\n",
       "      <td>...</td>\n",
       "      <td>...</td>\n",
       "    </tr>\n",
       "    <tr>\n",
       "      <th>111923</th>\n",
       "      <td>울분 화병은 가만있다가 과거 안좋은기억 때문에 울화가치밀어서 가슴이 답답해서 소리지...</td>\n",
       "      <td>울분과 화병은 과거의 부당한 대우나 상처로 인해 쌓인 분노와 억울함이 원인이 되는 ...</td>\n",
       "    </tr>\n",
       "    <tr>\n",
       "      <th>111924</th>\n",
       "      <td>고1 수학 공부 지금 예비고1이라 고1수학 선행하고 있는데 지금 다항식의 연산 기본...</td>\n",
       "      <td>다항식의 연산 공식은 처음에는 외우는 것이 중요합니다. 하지만 외우는 것만으로는 부...</td>\n",
       "    </tr>\n",
       "    <tr>\n",
       "      <th>111925</th>\n",
       "      <td>상가 임대차에 관한 문의드립니다 기존매장 인수를하는데 기존 상가임대차계약이 25년 ...</td>\n",
       "      <td>질문 1 기존 임대차계약이 2025년 3월까지 남아 있는 경우 임차인은 계약기간이 ...</td>\n",
       "    </tr>\n",
       "    <tr>\n",
       "      <th>111926</th>\n",
       "      <td>군대 질문 요번에 3월에 가는 해병대 동반입대에 지원했는데 만약에 1차합격을 한 상...</td>\n",
       "      <td>아닙니다. 동반입대는 한 번만 신청할 수 있습니다. 이미 해병대 동반입대에 1차 합...</td>\n",
       "    </tr>\n",
       "    <tr>\n",
       "      <th>111927</th>\n",
       "      <td>광주 영구 눈썹문신 샵 광주광역시 반영구 눈썹 말구 영구 눈썹 문신 샵들 좀 알려주...</td>\n",
       "      <td>네 알겠습니다. 광주광역시에 있는 영구 눈썹 문신 샵을 몇 군데 알려드리겠습니다. ...</td>\n",
       "    </tr>\n",
       "  </tbody>\n",
       "</table>\n",
       "<p>111928 rows × 2 columns</p>\n",
       "</div>"
      ],
      "text/plain": [
       "                                                 Question  \\\n",
       "0       20영업일 계좌개설 제한 2021.06.09 에 계좌개설했는데 20영업일 계좌개설 ...   \n",
       "1       주식 주문관련금액 주문관련금액에 8만원이 있는데 출금은 못하나고 주문만 할수있는건가요??   \n",
       "2       주식 출금가능금액 질문이요 제가 학생이라 10만원정도가 있는데 그중 8만정도가 주식...   \n",
       "3       안녕하세요 가치 투자의 진정한 뜻이 안녕하세요 가치 투자의 진정한 뜻이 궁금합니다....   \n",
       "4       주식 체결 후 입금이 안 되네요 주식을 매도 했습니다 .보유 주식에도 빠져 나갔구요...   \n",
       "...                                                   ...   \n",
       "111923  울분 화병은 가만있다가 과거 안좋은기억 때문에 울화가치밀어서 가슴이 답답해서 소리지...   \n",
       "111924  고1 수학 공부 지금 예비고1이라 고1수학 선행하고 있는데 지금 다항식의 연산 기본...   \n",
       "111925  상가 임대차에 관한 문의드립니다 기존매장 인수를하는데 기존 상가임대차계약이 25년 ...   \n",
       "111926  군대 질문 요번에 3월에 가는 해병대 동반입대에 지원했는데 만약에 1차합격을 한 상...   \n",
       "111927  광주 영구 눈썹문신 샵 광주광역시 반영구 눈썹 말구 영구 눈썹 문신 샵들 좀 알려주...   \n",
       "\n",
       "                                                   Answer  \n",
       "0       질문자님 안녕하세요. 20영업일 계좌개설 제한2021.06.09 에 계좌개설했는데 ...  \n",
       "1       질문자님 안녕하세요. 주식 주문관련금액주문관련금액에 8만원이 있는데 출금은 못하나고...  \n",
       "2       질문자님 안녕하세요. 주식 출금가능금액 질문이요 제가 학생이라 10만원정도가 있는데...  \n",
       "3       질문자님 안녕하세요. 안녕하세요 가치 투자의 진정한 뜻이 궁금합니다.그건 어느 시점...  \n",
       "4       질문자님 안녕하세요. 주식 체결 후 입금이 안 되네요 주식을 매도 했습니다 . 보유...  \n",
       "...                                                   ...  \n",
       "111923  울분과 화병은 과거의 부당한 대우나 상처로 인해 쌓인 분노와 억울함이 원인이 되는 ...  \n",
       "111924  다항식의 연산 공식은 처음에는 외우는 것이 중요합니다. 하지만 외우는 것만으로는 부...  \n",
       "111925  질문 1 기존 임대차계약이 2025년 3월까지 남아 있는 경우 임차인은 계약기간이 ...  \n",
       "111926  아닙니다. 동반입대는 한 번만 신청할 수 있습니다. 이미 해병대 동반입대에 1차 합...  \n",
       "111927  네 알겠습니다. 광주광역시에 있는 영구 눈썹 문신 샵을 몇 군데 알려드리겠습니다. ...  \n",
       "\n",
       "[111928 rows x 2 columns]"
      ]
     },
     "execution_count": 9,
     "metadata": {},
     "output_type": "execute_result"
    }
   ],
   "source": [
    "df.to_csv('./processed_jisikin.csv', index=False)\n",
    "df"
   ]
  },
  {
   "cell_type": "code",
   "execution_count": 10,
   "metadata": {},
   "outputs": [
    {
     "name": "stdout",
     "output_type": "stream",
     "text": [
      "<class 'pandas.core.frame.DataFrame'>\n",
      "RangeIndex: 111928 entries, 0 to 111927\n",
      "Data columns (total 2 columns):\n",
      " #   Column    Non-Null Count   Dtype \n",
      "---  ------    --------------   ----- \n",
      " 0   Question  109971 non-null  object\n",
      " 1   Answer    111925 non-null  object\n",
      "dtypes: object(2)\n",
      "memory usage: 1.7+ MB\n",
      "None\n"
     ]
    }
   ],
   "source": [
    "df = pd.read_csv('./processed_jisikin.csv')\n",
    "print(df.info())"
   ]
  },
  {
   "cell_type": "markdown",
   "metadata": {},
   "source": [
    "#### 문자열 길이 조절"
   ]
  },
  {
   "cell_type": "code",
   "execution_count": 12,
   "metadata": {},
   "outputs": [
    {
     "name": "stdout",
     "output_type": "stream",
     "text": [
      "\\Question 열 길이:\n",
      "최대 길이: 10852, 최소 길이: 0, 평균 길이: 140.54\n",
      "\\Answer 열 길이:\n",
      "최대 길이: 52819, 최소 길이: 0, 평균 길이: 1044.59\n"
     ]
    },
    {
     "data": {
      "image/png": "[encoded data removed]",
      "text/plain": [
       "<Figure size 1200x600 with 2 Axes>"
      ]
     },
     "metadata": {},
     "output_type": "display_data"
    }
   ],
   "source": [
    "import matplotlib.pyplot as plt\n",
    "\n",
    "def data_length_distribution(df, sentence='Question', abs='Answer'):\n",
    "  # 문자열로 변환하고 NaN을 빈 문자열로 대체\n",
    "  df[sentence] = df[sentence].fillna('').astype(str)\n",
    "  df[abs] = df[abs].fillna('').astype(str)\n",
    "  \n",
    "  df['sentence_length'] = df[sentence].apply(len)\n",
    "  df['abs_length'] = df[abs].apply(len)\n",
    "\n",
    "  sentence_max_length = df['sentence_length'].max()\n",
    "  sentence_min_length = df['sentence_length'].min()\n",
    "  sentence_mean_length = df['sentence_length'].mean()\n",
    "\n",
    "  abs_max_length = df['abs_length'].max()\n",
    "  abs_min_length = df['abs_length'].min()\n",
    "  abs_mean_length = df['abs_length'].mean()\n",
    "\n",
    "  print(\"\\Question 열 길이:\")\n",
    "  print(f\"최대 길이: {sentence_max_length}, 최소 길이: {sentence_min_length}, 평균 길이: {sentence_mean_length:.2f}\")\n",
    "\n",
    "  print(\"\\Answer 열 길이:\")\n",
    "  print(f\"최대 길이: {abs_max_length}, 최소 길이: {abs_min_length}, 평균 길이: {abs_mean_length:.2f}\")\n",
    "\n",
    "  plt.figure(figsize=(12, 6))\n",
    "\n",
    "  plt.subplot(1, 2, 1)\n",
    "  plt.hist(df['sentence_length'], bins=10, color='blue', alpha=0.7)\n",
    "  plt.title('Sentence Length Distribution')\n",
    "  plt.xlabel('Length')\n",
    "  plt.ylabel('Frequency')\n",
    "\n",
    "  plt.subplot(1, 2, 2)\n",
    "  plt.hist(df['abs_length'], bins=10, color='orange', alpha=0.7)\n",
    "  plt.title('Abs Length Distribution')\n",
    "  plt.xlabel('Length')\n",
    "  plt.ylabel('Frequency')\n",
    "\n",
    "  plt.tight_layout()\n",
    "  plt.show()\n",
    "  df = df.drop(columns=['sentence_length','abs_length'])\n",
    "  \n",
    "data_length_distribution(df)"
   ]
  },
  {
   "cell_type": "code",
   "execution_count": 13,
   "metadata": {},
   "outputs": [
    {
     "name": "stdout",
     "output_type": "stream",
     "text": [
      "\\Question 열 길이:\n",
      "최대 길이: 100, 최소 길이: 0, 평균 길이: 81.46\n",
      "\\Answer 열 길이:\n",
      "최대 길이: 200, 최소 길이: 0, 평균 길이: 167.65\n"
     ]
    },
    {
     "data": {
      "image/png": "[encoded data removed]",
      "text/plain": [
       "<Figure size 1200x600 with 2 Axes>"
      ]
     },
     "metadata": {},
     "output_type": "display_data"
    },
    {
     "name": "stdout",
     "output_type": "stream",
     "text": [
      "길이 제한 전 데이터 프레임 길이 : 111928\n",
      "길이 제한 후 데이터 프레임 길이 : 111928\n",
      "삭제 된 행 : 0\n"
     ]
    }
   ],
   "source": [
    "pre_length = len(df)\n",
    "\n",
    "# Question 열에서 150자 이상인 문자열을 자르고, Answer 열에서 80자 이상인 문자열을 자름\n",
    "df['Question'] = df['Question'].str.slice(0, 100)\n",
    "df['Answer'] = df['Answer'].str.slice(0, 200)\n",
    "\n",
    "# df = df[(df['Question'].str.len() > 10) & (df['Question'].str.len() < 150)]\n",
    "# df = df[(df['Answer'].str.len() > 10) & (df['Answer'].str.len() < 80)] # & (df['abs'].str.len() < 150)\n",
    "\n",
    "data_length_distribution(df)\n",
    "\n",
    "after_length = len(df)\n",
    "\n",
    "print(f'길이 제한 전 데이터 프레임 길이 : {pre_length}')\n",
    "print(f'길이 제한 후 데이터 프레임 길이 : {after_length}')\n",
    "print(f'삭제 된 행 : {pre_length-after_length}')"
   ]
  },
  {
   "cell_type": "code",
   "execution_count": 14,
   "metadata": {},
   "outputs": [
    {
     "name": "stdout",
     "output_type": "stream",
     "text": [
      "                                                 Question  \\\n",
      "0       20영업일 계좌개설 제한 2021.06.09 에 계좌개설했는데 20영업일 계좌개설 ...   \n",
      "1       주식 주문관련금액 주문관련금액에 8만원이 있는데 출금은 못하나고 주문만 할수있는건가요??   \n",
      "2       주식 출금가능금액 질문이요 제가 학생이라 10만원정도가 있는데 그중 8만정도가 주식...   \n",
      "3       안녕하세요 가치 투자의 진정한 뜻이 안녕하세요 가치 투자의 진정한 뜻이 궁금합니다....   \n",
      "4       주식 체결 후 입금이 안 되네요 주식을 매도 했습니다 .보유 주식에도 빠져 나갔구요...   \n",
      "...                                                   ...   \n",
      "111923  울분 화병은 가만있다가 과거 안좋은기억 때문에 울화가치밀어서 가슴이 답답해서 소리지...   \n",
      "111924  고1 수학 공부 지금 예비고1이라 고1수학 선행하고 있는데 지금 다항식의 연산 기본...   \n",
      "111925  상가 임대차에 관한 문의드립니다 기존매장 인수를하는데 기존 상가임대차계약이 25년 ...   \n",
      "111926  군대 질문 요번에 3월에 가는 해병대 동반입대에 지원했는데 만약에 1차합격을 한 상...   \n",
      "111927  광주 영구 눈썹문신 샵 광주광역시 반영구 눈썹 말구 영구 눈썹 문신 샵들 좀 알려주...   \n",
      "\n",
      "                                                   Answer  sentence_length  \\\n",
      "0       질문자님 안녕하세요. 20영업일 계좌개설 제한2021.06.09 에 계좌개설했는데 ...               58   \n",
      "1       질문자님 안녕하세요. 주식 주문관련금액주문관련금액에 8만원이 있는데 출금은 못하나고...               49   \n",
      "2       질문자님 안녕하세요. 주식 출금가능금액 질문이요 제가 학생이라 10만원정도가 있는데...              100   \n",
      "3       질문자님 안녕하세요. 안녕하세요 가치 투자의 진정한 뜻이 궁금합니다.그건 어느 시점...              100   \n",
      "4       질문자님 안녕하세요. 주식 체결 후 입금이 안 되네요 주식을 매도 했습니다 . 보유...              100   \n",
      "...                                                   ...              ...   \n",
      "111923  울분과 화병은 과거의 부당한 대우나 상처로 인해 쌓인 분노와 억울함이 원인이 되는 ...               65   \n",
      "111924  다항식의 연산 공식은 처음에는 외우는 것이 중요합니다. 하지만 외우는 것만으로는 부...              100   \n",
      "111925  질문 1 기존 임대차계약이 2025년 3월까지 남아 있는 경우 임차인은 계약기간이 ...              100   \n",
      "111926  아닙니다. 동반입대는 한 번만 신청할 수 있습니다. 이미 해병대 동반입대에 1차 합...               95   \n",
      "111927  네 알겠습니다. 광주광역시에 있는 영구 눈썹 문신 샵을 몇 군데 알려드리겠습니다. ...               51   \n",
      "\n",
      "        abs_length  \n",
      "0              181  \n",
      "1              200  \n",
      "2              200  \n",
      "3              200  \n",
      "4              200  \n",
      "...            ...  \n",
      "111923         200  \n",
      "111924         200  \n",
      "111925         200  \n",
      "111926         200  \n",
      "111927         200  \n",
      "\n",
      "[111928 rows x 4 columns]\n"
     ]
    }
   ],
   "source": [
    "df.to_csv('./processed_jisikin_final.csv', index=False)\n",
    "print(df)"
   ]
  },
  {
   "cell_type": "code",
   "execution_count": 15,
   "metadata": {},
   "outputs": [],
   "source": [
    "import tensorflow as tf\n",
    "import tensorflow_datasets as tfds\n",
    "import time\n",
    "from tqdm import tqdm\n",
    "\n",
    "question_list = df['Question']\n",
    "answer_list = df['Answer']\n",
    "\n",
    "tokenizer = tfds.deprecated.text.SubwordTextEncoder.build_from_corpus(\n",
    "    question_list + answer_list, target_vocab_size = 2**12  #목표 어휘 크기, 약 16,384개의 서브워드를 생성하는 설정\n",
    ")"
   ]
  },
  {
   "cell_type": "code",
   "execution_count": 17,
   "metadata": {},
   "outputs": [
    {
     "name": "stdout",
     "output_type": "stream",
     "text": [
      "Tokenizer vocabulary size: 4083\n",
      "\n",
      "Token examples: ['. ', '을_', '이_', '에_', '는_', '의_', '은_', '가_', '를_', '주식_', '로_', '입니다', '으로_', '도_', '수_', '고_', '이', '? ', '있습니다', '합니다', '면_', '한_', '서_', '에서_', '가', '만_', '됩니다', '게_', '시', '요']\n",
      "\n",
      "Encoding test - Before: 20영업일 계좌개설 제한 2021.06.09 에 계좌개설했는데 20영업일 계좌개설 제한 언제 풀리나요??\n",
      "\n",
      "Encoding test - After: [313, 1777, 2353, 2236, 1912, 3873, 3744, 3873, 3489, 3859, 4, 1084, 365, 313, 1777, 2353, 2236, 1257, 1941, 47, 71, 213]\n"
     ]
    }
   ],
   "source": [
    "# tokenizer.save_to_file('tokenizer')\n",
    "# tokenizer = tfds.deprecated.text.SubwordTextEncoder.load_from_file('tokenizer')\n",
    "\n",
    "# print(f'토큰 크기: {tokenizer.vocab_size}')\n",
    "# print(f'\\n토큰 예시: {tokenizer.subwords[:30]}')\n",
    "# print(f'\\n인코딩 테스트 - 전: {question_list[:1]}')\n",
    "# encodingList = tokenizer.encode(question_list[:1])\n",
    "# print(f'\\n인코딩 테스트 - 후: {encodingList}')\n",
    "\n",
    "# Save the tokenizer to a file\n",
    "tokenizer.save_to_file('tokenizer')\n",
    "\n",
    "# Load the tokenizer from the file\n",
    "tokenizer = tfds.deprecated.text.SubwordTextEncoder.load_from_file('tokenizer')\n",
    "\n",
    "# Print tokenizer information\n",
    "print(f'Tokenizer vocabulary size: {tokenizer.vocab_size}')\n",
    "print(f'\\nToken examples: {tokenizer.subwords[:30]}')\n",
    "\n",
    "# Encoding test\n",
    "first_question = question_list[0]  # Access the first question string\n",
    "print(f'\\nEncoding test - Before: {first_question}')\n",
    "encoding_list = tokenizer.encode(first_question)  # Pass the string directly\n",
    "print(f'\\nEncoding test - After: {encoding_list}')"
   ]
  },
  {
   "cell_type": "code",
   "execution_count": 19,
   "metadata": {},
   "outputs": [
    {
     "name": "stdout",
     "output_type": "stream",
     "text": [
      "토큰 크기: 16369\n",
      "\n",
      "토큰 예시: ['. ', '이_', '는_', '주식_', '에_', '을_', '의_', '수_', '은_', '? ', '가_', '를_', '있습니다', '입니다', '도_', '로_', '고_', '으로_', '안녕하세요_', '합니다', '주식을_', '됩니다', '있는_', '면_', '에서_', '제가_', '과_', '한_', '만_', '서_']\n",
      "\n",
      "인코딩 테스트 - 전: 20영업일 계좌개설 제한 2021.06.09 에 계좌개설했는데 20영업일 계좌개설 제한 언제 풀리나요??\n",
      "\n",
      "인코딩 테스트 - 후: [12006, 1250, 2802, 1905, 16159, 3908, 16159, 3907, 5, 1988, 244, 12006, 1250, 2802, 575, 5664, 64, 86]\n"
     ]
    }
   ],
   "source": [
    "import tensorflow as tf\n",
    "import tensorflow_datasets as tfds\n",
    "import time\n",
    "from tqdm import tqdm\n",
    "import pandas as pd\n",
    "\n",
    "# 데이터프레임에서 Question과 Answer 컬럼 가져오기\n",
    "question_list = df['Question'].tolist()\n",
    "answer_list = df['Answer'].tolist()\n",
    "\n",
    "# 서브워드 토크나이저 생성\n",
    "tokenizer = tfds.deprecated.text.SubwordTextEncoder.build_from_corpus(\n",
    "    question_list + answer_list, target_vocab_size=2**14  # 목표 어휘 크기, 약 16,384개의 서브워드를 생성하는 설정\n",
    ")\n",
    "\n",
    "# 토크나이저 저장\n",
    "tokenizer.save_to_file('tokenizer')\n",
    "\n",
    "# 저장된 토크나이저 로드\n",
    "tokenizer = tfds.deprecated.text.SubwordTextEncoder.load_from_file('tokenizer')\n",
    "\n",
    "# 토큰 크기 출력\n",
    "print(f'토큰 크기: {tokenizer.vocab_size}')\n",
    "\n",
    "# 토큰 예시 출력 (처음 30개의 서브워드)\n",
    "print(f'\\n토큰 예시: {tokenizer.subwords[:30]}')\n",
    "\n",
    "# 인코딩 테스트 - 리스트에서 첫 번째 질문을 인코딩\n",
    "first_question = question_list[0]  # 첫 번째 질문을 문자열로 가져오기\n",
    "print(f'\\n인코딩 테스트 - 전: {first_question}')\n",
    "encoding_list = tokenizer.encode(first_question)  # 문자열로 변환된 질문 인코딩\n",
    "print(f'\\n인코딩 테스트 - 후: {encoding_list}')\n"
   ]
  },
  {
   "cell_type": "code",
   "execution_count": 20,
   "metadata": {},
   "outputs": [
    {
     "name": "stdout",
     "output_type": "stream",
     "text": [
      "sentence 원본 : 주식 출금가능금액 질문이요 제가 학생이라 10만원정도가 있는데 그중 8만정도가 주식에들어가있어요 그럼 출금가능금액은 2만원인데 출금가능금액이 40000만원 이길래 한번 빼봤더니 2\n",
      "\n",
      "sentence 토큰화 및 패딩 결과 : [16369     4 11768  1081    26 14698 16145  2290  3810   140   206   125\n",
      " 16169   219  3810  6310  1072  2132   374  5716     9  3318   171  9226\n",
      "  8740  9271    53  2204   166  2094 13509 16145 16163 16370     0     0\n",
      "     0     0     0     0     0     0     0     0     0     0     0     0\n",
      "     0     0     0     0     0     0     0     0     0     0     0     0\n",
      "     0     0     0     0     0     0     0     0     0     0     0     0\n",
      "     0     0     0     0     0     0     0     0     0     0     0     0\n",
      "     0     0     0     0     0     0     0     0     0     0     0     0\n",
      "     0     0     0]\n",
      "\n",
      "abs 원본 : 질문자님 안녕하세요. 주식 출금가능금액 질문이요 제가 학생이라 10만원정도가 있는데 그중 8만정도가 주식에들어가있어요 그럼 출금가능금액은 2만원인데 출금가능금액이 40000만원 이길래 한번 빼봤더니 20000이 되더라구요 이런적은 처음이라 설명해주실분 찾아요 출금은 무조건 매도일 기준으로 D 2거래일 후에 출금이 가능합니다.하지만 급전이 필요한 사람들을 위\n",
      "\n",
      "abs 토큰화 및 패딩 결과 : [16369   111    33     1     4 11768  1081    26 14698 16145  2290  3810\n",
      "   140   206   125 16169   219  3810  6310  1072  2132   374  5716     9\n",
      "  3318   171  9226  8740  9271    53  2204   166  2094 13509 16145  2466\n",
      "  6307 16145  7714   791  2030  2587  7403  8878   382   770  2324   100\n",
      "  3422   953 11422 16145   342   188  6263   403   761    55 16159   252\n",
      "   793 14458   816  3502     6   465 16370     0     0     0     0     0\n",
      "     0     0     0     0     0     0     0     0     0     0     0     0\n",
      "     0     0     0     0     0     0     0     0     0     0     0     0\n",
      "     0     0     0     0     0     0     0     0     0     0     0     0\n",
      "     0     0     0     0     0     0     0     0     0     0     0     0\n",
      "     0     0     0     0     0     0     0     0     0     0     0     0\n",
      "     0     0     0     0     0     0     0     0     0     0     0     0\n",
      "     0     0     0     0     0     0     0     0     0     0     0     0\n",
      "     0     0     0     0     0     0     0     0     0     0     0     0\n",
      "     0     0     0     0     0     0     0     0     0     0     0     0\n",
      "     0     0     0     0     0     0     0     0     0     0     0     0\n",
      "     0     0     0     0     0     0     0]\n"
     ]
    }
   ],
   "source": [
    "beforeQuestion = question_list[2]\n",
    "beforeAnswer = answer_list[2]\n",
    "\n",
    "START_TOKEN, END_TOKEN = [tokenizer.vocab_size], [tokenizer.vocab_size+1]\n",
    "VOCAB_SIZE = tokenizer.vocab_size + 2\n",
    "\n",
    "QUE_MAX_LENGTH = 199\n",
    "ANS_MAX_LENGTH = 799\n",
    "\n",
    "def tokenized_and_padding(question_list, answer_list):\n",
    "  tokenized_question, tokenized_answer = [], []\n",
    "  \n",
    "  for (question, answer) in zip(question_list, answer_list):\n",
    "    question = START_TOKEN + tokenizer.encode(question) + END_TOKEN\n",
    "    answer = START_TOKEN + tokenizer.encode(answer) + END_TOKEN\n",
    "    \n",
    "    tokenized_question.append(question)\n",
    "    tokenized_answer.append(answer)\n",
    "    \n",
    "  tokenized_question = tf.keras.preprocessing.sequence.pad_sequences(\n",
    "        tokenized_question, maxlen=QUE_MAX_LENGTH, padding='post'\n",
    "    )\n",
    "  tokenized_answer = tf.keras.preprocessing.sequence.pad_sequences(\n",
    "      tokenized_answer, maxlen=ANS_MAX_LENGTH, padding='post'\n",
    "  )\n",
    "  \n",
    "  return tokenized_question, tokenized_answer\n",
    "\n",
    "question_list, answer_list = tokenized_and_padding(question_list, answer_list)\n",
    "\n",
    "print(f'sentence 원본 : {beforeQuestion}')\n",
    "print(f'\\nsentence 토큰화 및 패딩 결과 : {question_list[2]}')\n",
    "print(f'\\nabs 원본 : {beforeAnswer}')\n",
    "print(f'\\nabs 토큰화 및 패딩 결과 : {answer_list[2]}')"
   ]
  },
  {
   "cell_type": "code",
   "execution_count": 21,
   "metadata": {},
   "outputs": [],
   "source": [
    "question_list_tf = tf.convert_to_tensor(question_list)\n",
    "answer_list_tf =tf.convert_to_tensor(answer_list) "
   ]
  },
  {
   "cell_type": "code",
   "execution_count": 22,
   "metadata": {},
   "outputs": [
    {
     "name": "stdout",
     "output_type": "stream",
     "text": [
      "Pickle 파일 저장 완료\n"
     ]
    }
   ],
   "source": [
    "import pickle\n",
    "\n",
    "# question_list_tf를 pickle 파일로 저장\n",
    "with open('sentences.pkl', 'wb') as f:\n",
    "    pickle.dump(question_list_tf, f)\n",
    "\n",
    "# abs를 pickle 파일로 저장\n",
    "with open('abs.pkl', 'wb') as f:\n",
    "    pickle.dump(answer_list_tf, f)\n",
    "\n",
    "print(\"Pickle 파일 저장 완료\")"
   ]
  }
 ],
 "metadata": {
  "kernelspec": {
   "display_name": "tensor",
   "language": "python",
   "name": "python3"
  },
  "language_info": {
   "codemirror_mode": {
    "name": "ipython",
    "version": 3
   },
   "file_extension": ".py",
   "mimetype": "text/x-python",
   "name": "python",
   "nbconvert_exporter": "python",
   "pygments_lexer": "ipython3",
   "version": "3.8.19"
  }
 },
 "nbformat": 4,
 "nbformat_minor": 2
}
