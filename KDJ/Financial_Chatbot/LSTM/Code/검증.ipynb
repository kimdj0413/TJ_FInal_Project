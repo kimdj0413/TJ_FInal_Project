{
 "cells": [
  {
   "cell_type": "code",
   "execution_count": 1,
   "metadata": {},
   "outputs": [
    {
     "name": "stderr",
     "output_type": "stream",
     "text": [
      "c:\\big18\\python\\envs\\tensor\\lib\\site-packages\\tqdm\\auto.py:21: TqdmWarning: IProgress not found. Please update jupyter and ipywidgets. See https://ipywidgets.readthedocs.io/en/stable/user_install.html\n",
      "  from .autonotebook import tqdm as notebook_tqdm\n"
     ]
    }
   ],
   "source": [
    "import pandas as pd\n",
    "import tensorflow as tf\n",
    "import tensorflow_datasets as tfds\n",
    "import matplotlib.pyplot as plt\n",
    "import seaborn as sns\n",
    "from tensorflow.keras.models import load_model"
   ]
  },
  {
   "cell_type": "code",
   "execution_count": 2,
   "metadata": {},
   "outputs": [
    {
     "name": "stdout",
     "output_type": "stream",
     "text": [
      "   keyword                                            summary\n",
      "0  스태그플레이션                     경제불황 속에서 물가상승이 동시에 발생하고 있는 상태.\n",
      "1     자본주의    사유재산제에 바탕을 두고 이윤 획득을 위해 상품의 생산과 소비가 이루어지는 경제체제.\n",
      "2    베블런효과  가격이 오르는 데도 일부 계층의 과시욕이나 허영심 등으로 인해 수요가 줄어들지 않는...\n",
      "3    제로섬게임       한쪽의 이득과 다른 쪽의 손실을 더하면 제로(0)가 되는 게임을 일컫는 말이다.\n",
      "4     산업혁명   18세기 중엽 영국에서 시작된 기술혁신과 이에 수반하여 일어난 사회·경제 구조의 변혁.\n"
     ]
    }
   ],
   "source": [
    "df = pd.read_csv('C:/MachineLearning/Financial_chatbot/LSTM/Data/preprocess.csv')\n",
    "print(df.head())"
   ]
  },
  {
   "cell_type": "code",
   "execution_count": 3,
   "metadata": {},
   "outputs": [
    {
     "name": "stdout",
     "output_type": "stream",
     "text": [
      "<class 'dict'>\n"
     ]
    }
   ],
   "source": [
    "df['keyword'] = df['keyword'].str.replace(' ', '', regex=False)\n",
    "\n",
    "keyword_dict = df.set_index('keyword')['summary'].to_dict()\n",
    "\n",
    "# 결과 확인\n",
    "print(dict)\n",
    "\n",
    "keyword_list = list(keyword_dict.keys())\n",
    "\n",
    "import pickle\n",
    "\n",
    "with open('C:/MachineLearning/Financial_chatbot/LSTM/Data/keyword_dict.pkl','wb') as file:\n",
    "    pickle.dump(keyword_dict, file)\n",
    "    "
   ]
  },
  {
   "cell_type": "code",
   "execution_count": 5,
   "metadata": {},
   "outputs": [
    {
     "name": "stdout",
     "output_type": "stream",
     "text": [
      "1/1 [==============================] - 2s 2s/step\n",
      "나 : \n",
      "<JSK>\n",
      "1/1 [==============================] - 0s 21ms/step\n",
      "나 : 잭슨홀 미팅이 무슨 뜻이야?\n",
      "['잭슨홀미팅']\n",
      "봇 : '잭슨홀미팅'의 뜻을 알려드릴께요\n",
      "잭슨홀미팅(이)란 '미국 연방은행인 캔자스시티 연방은행이 매년 8월 주요국 중앙은행 총재 및 경제전문가들과 함께 와이오밍주의 휴양지인 잭슨홀에서 개최하는 경제정책 심포지엄.'을(를) 뜻합니다.\n",
      "1/1 [==============================] - 0s 28ms/step\n",
      "나 : \n",
      "<JSK>\n",
      "1/1 [==============================] - 0s 24ms/step\n",
      "나 : 로스차일드 가의 뜻을 알려줘\n",
      "<JSK>\n",
      "1/1 [==============================] - 0s 20ms/step\n",
      "나 : \n",
      "<JSK>\n",
      "1/1 [==============================] - 0s 20ms/step\n",
      "나 : 로스차일드가가 무슨 뜻이야?\n",
      "['로스차일드가']\n",
      "봇 : '로스차일드가'의 뜻을 알려드릴께요\n",
      "로스차일드가(이)란 '국제적 금융기업을 보유하고 있는 유대계 금융재벌 가문이다. 로스차일드는 독일어 로트실트(Rothschild)의 영어식 발음으로 프랑스어로는 로쉴드라고 읽는다. 나폴레옹 전쟁 이후 유럽 주요 국가들의 공채 발행과 왕가·귀족들의 자산 관리를 맡아 막대한 부를 축적했으며, 철도와 석유산업의 발달을 주도하며 유럽의 정치와 경제 등에 큰 영향을 끼쳤다.'을(를) 뜻합니다.\n",
      "1/1 [==============================] - 0s 28ms/step\n",
      "나 : \n",
      "<JSK>\n"
     ]
    }
   ],
   "source": [
    "loaded_model = load_model('best_model.h5')\n",
    "tokenizer = tfds.deprecated.text.SubwordTextEncoder.load_from_file('tokenizer')\n",
    "\n",
    "while True:\n",
    "    question = input('질문해! : ')\n",
    "    if question == \"끝!\":\n",
    "        break\n",
    "    tokenied_question=[]\n",
    "    tokenied_question.append(tokenizer.encode(question))\n",
    "    final_question = tf.keras.preprocessing.sequence.pad_sequences(\n",
    "        tokenied_question, maxlen=77, padding='post'\n",
    "    )\n",
    "    score = float(loaded_model.predict(final_question))\n",
    "    print(f'나 : {question}')\n",
    "    \n",
    "    if(score > 0.5):\n",
    "        try :\n",
    "            question = question.replace(\" \", \"\")\n",
    "            included_keywords = [keyword for keyword in keyword_list_dict if keyword in question]\n",
    "            print(included_keywords)\n",
    "            if len(included_keywords) > 1:\n",
    "                keyword = max(included_keywords, key=len)\n",
    "            else:\n",
    "                keyword = included_keywords[0]\n",
    "            print(f\"봇 : '{keyword}'의 뜻을 알려드릴께요\\n{keyword}(이)란 '{dict.get(keyword)}'을(를) 뜻합니다.\")\n",
    "        except ValueError:\n",
    "            print('몰라')\n",
    "    else:\n",
    "        print('<JSK>')\n",
    "\n",
    "    "
   ]
  }
 ],
 "metadata": {
  "kernelspec": {
   "display_name": "tensor",
   "language": "python",
   "name": "python3"
  },
  "language_info": {
   "codemirror_mode": {
    "name": "ipython",
    "version": 3
   },
   "file_extension": ".py",
   "mimetype": "text/x-python",
   "name": "python",
   "nbconvert_exporter": "python",
   "pygments_lexer": "ipython3",
   "version": "3.11.4"
  }
 },
 "nbformat": 4,
 "nbformat_minor": 2
}
