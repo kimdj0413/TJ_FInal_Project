{
 "cells": [
  {
   "cell_type": "code",
   "execution_count": 9,
   "metadata": {},
   "outputs": [],
   "source": [
    "import pandas as pd"
   ]
  },
  {
   "cell_type": "code",
   "execution_count": 10,
   "metadata": {},
   "outputs": [],
   "source": [
    "gina_df = pd.read_csv('C:/MachineLearning/cleaned_df_final.csv')\n",
    "yunju_df = pd.read_csv('C:/MachineLearning/Dictionary_Validation.csv')\n"
   ]
  },
  {
   "cell_type": "code",
   "execution_count": 11,
   "metadata": {},
   "outputs": [
    {
     "name": "stdout",
     "output_type": "stream",
     "text": [
      "['20영업일 계좌개설 제한 2021.06.09 에 계좌개설했는데 20영업일 계좌개설 제한 언제 풀리나요?', '주식 주문관련금액 주문관련금액에 8만원이 있는데 출금은 못하나고 주문만 할수있는건가요?', '주식 출금가능금액 질문이요. 제가 학생이라 10만원정도가 있는데 그중 8만정도가 주식에들어가있어요. 그럼 출금가능금액은 2만원인데 출금가능금액이 40000만원 이길래 한번 빼봤더니 20000이 되더라구요 이런적은 처음이라 설명해주실분 찾아요.', '가치 투자의 진정한 뜻이. 가치 투자의 진정한 뜻이 궁금합니다.그건 어느 시점에서 산 종목 주가와 오랜 시간이 지난 뒤 상승한 그 종목의 주가 차액을 말하는 건가요 ?', '주식 체결 후 입금이 안 되네요 주식을 매도 했습니다 .보유 주식에도 빠져 나갔구요 체결도 된거 같은데돈이 안 들어오네요 마찬가지로 주식을 매수 했습니다.보유 주식에 증가는 했는데 돈이 안 빠져 나갔네요혹시 어떤 이유가 있을까요?우측 끝 처리 상태가 비워져 있긴 하나 말씀드린대로보유주식에 매도는 없어졌고 매수는 증가했습니다 .돈만 나가고 들어오고가 없네요쉬운 설명 부탁드립니다.']\n",
      "['<JSK>', '<JSK>', '<JSK>', '<JSK>', '<JSK>']\n",
      "218501\n",
      "218501\n"
     ]
    }
   ],
   "source": [
    "gina_question = gina_df['Question']\n",
    "yunju_question = yunju_df['question']\n",
    "\n",
    "gina_tag = []\n",
    "yunju_tag = []\n",
    "\n",
    "question_list = []\n",
    "tag_list = []\n",
    "\n",
    "data_length = len(gina_question) + len(yunju_question)\n",
    "\n",
    "for i in range(0,data_length):\n",
    "    if i < len(gina_question):\n",
    "        question_list.append(gina_question[i])\n",
    "        tag_list.append(\"<JSK>\")\n",
    "    else:\n",
    "        question_list.append(yunju_question[i-len(gina_question)])\n",
    "        tag_list.append(\"<DICT>\")\n",
    "    \n",
    "\n",
    "\n",
    "print(question_list[:5])\n",
    "print(tag_list[:5])\n",
    "print(len(question_list))\n",
    "print(len(tag_list))"
   ]
  },
  {
   "cell_type": "code",
   "execution_count": 12,
   "metadata": {},
   "outputs": [],
   "source": [
    "new_df = pd.DataFrame({\n",
    "    \"question_list\" : question_list,\n",
    "    \"tag_list\" : tag_list\n",
    "})\n",
    "\n",
    "new_df.to_csv('new_df.csv', index=False)"
   ]
  }
 ],
 "metadata": {
  "kernelspec": {
   "display_name": "Python 3",
   "language": "python",
   "name": "python3"
  },
  "language_info": {
   "codemirror_mode": {
    "name": "ipython",
    "version": 3
   },
   "file_extension": ".py",
   "mimetype": "text/x-python",
   "name": "python",
   "nbconvert_exporter": "python",
   "pygments_lexer": "ipython3",
   "version": "3.11.4"
  }
 },
 "nbformat": 4,
 "nbformat_minor": 2
}
