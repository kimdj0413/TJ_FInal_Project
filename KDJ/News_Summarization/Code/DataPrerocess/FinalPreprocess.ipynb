{
 "cells": [
  {
   "cell_type": "markdown",
   "metadata": {},
   "source": [
    "#################################\n",
    "##    뉴스 기사 요약 전처리   ##\n",
    "#################################"
   ]
  },
  {
   "cell_type": "markdown",
   "metadata": {},
   "source": [
    "0. 라이브러리 임포트"
   ]
  },
  {
   "cell_type": "code",
   "execution_count": 50,
   "metadata": {},
   "outputs": [],
   "source": [
    "import pandas as pd\n",
    "import re\n",
    "import matplotlib.pyplot as plt\n",
    "import tensorflow as tf\n",
    "import tensorflow_datasets as tfds\n",
    "import time\n",
    "from tqdm import tqdm"
   ]
  },
  {
   "cell_type": "markdown",
   "metadata": {},
   "source": [
    "1. 데이터 불러오기 및 합치기"
   ]
  },
  {
   "cell_type": "code",
   "execution_count": 51,
   "metadata": {},
   "outputs": [
    {
     "name": "stdout",
     "output_type": "stream",
     "text": [
      "원본 트레인 데이터 길이 : 243983\n",
      "원본 검증 데이터 길이 : 30122\n",
      "예상 최종 데이터 길이 : 274105\n",
      "실제 데이터 길이 : 274105\n",
      "                           title  \\\n",
      "0         논 타작물 재배, 2월 말까지 신청하세요   \n",
      "1  여수시, 컬러빌리지 마무리...‘색채와 빛’도시 완성   \n",
      "2        “새해 정기 받고 올해는 반드시 일내자!”   \n",
      "3          농업인 역량 강화, 새해 실용교육 실시   \n",
      "4          타이완 크루즈관광객 4천여명‘전남’온다   \n",
      "\n",
      "                                            sentence  \\\n",
      "0  ha당 조사료 400만원…작물별 차등 지원 이성훈 sinawi@hanmail.net...   \n",
      "1  8억 투입, 고소천사벽화·자산마을에 색채 입혀 이성훈 sinawi@hanmail.n...   \n",
      "2  전남드래곤즈 해맞이 다짐…선수 영입 활발 이성훈 sinawi@hanmail.net ...   \n",
      "3  11~24일, 매실·감·참다래 등 지역특화작목 이성훈 sinawi@hanmail.n...   \n",
      "4  홍콩 크루즈선사‘아쿠아리우스’ 4, 6월 여수항 입항 이성훈 sinawi@hanma...   \n",
      "\n",
      "                                                 abs  \n",
      "0  전라남도가 쌀 과잉문제를 근본적으로 해결하기 위해 올해부터 벼를 심었던 논에 벼 대...  \n",
      "1  여수시는 컬러빌리지 사업에 8억원을 투입하여 ‘색채와 빛’ 도시를 완성하여 고소천사...  \n",
      "2  전남드래곤즈 임직원과 선수단이 4일 구봉산 정상에 올라 일출을 보며 2018년 구단...  \n",
      "3  광양시는 농업인들의 경쟁력을 높이고, 소득안정을 위해 매실·감·참다래 등 지역특화작...  \n",
      "4  올해 4월과 6월 두 차례에 걸쳐 타이완의 크루즈 관광객 4000여명이 여수에 입항...  \n"
     ]
    }
   ],
   "source": [
    "raw_train_df = pd.read_csv('D:/TJ_FInal_Project/KDJ/News_Summarization/Data/문서요약 텍스트/Preprocess/train.csv')\n",
    "raw_valid_df = pd.read_csv('D:/TJ_FInal_Project/KDJ/News_Summarization/Data/문서요약 텍스트/Preprocess/valid.csv')\n",
    "\n",
    "raw_df = pd.concat([raw_train_df, raw_valid_df], ignore_index=True)\n",
    "\n",
    "print(f'원본 트레인 데이터 길이 : {len(raw_train_df)}')\n",
    "print(f'원본 검증 데이터 길이 : {len(raw_valid_df)}')\n",
    "print(f'예상 최종 데이터 길이 : {len(raw_train_df)+len(raw_valid_df)}')\n",
    "print(f'실제 데이터 길이 : {len(raw_df)}')\n",
    "print(raw_df.head())\n",
    "# raw_df = pd.read_csv('D:/TJ_FInal_Project/KDJ/News_Summarization/Data/문서요약 텍스트/Preprocess/finalPreprocess.csv')"
   ]
  },
  {
   "cell_type": "markdown",
   "metadata": {},
   "source": [
    "2. title 열 날리기"
   ]
  },
  {
   "cell_type": "code",
   "execution_count": 52,
   "metadata": {},
   "outputs": [
    {
     "name": "stdout",
     "output_type": "stream",
     "text": [
      "                                            sentence  \\\n",
      "0  ha당 조사료 400만원…작물별 차등 지원 이성훈 sinawi@hanmail.net...   \n",
      "1  8억 투입, 고소천사벽화·자산마을에 색채 입혀 이성훈 sinawi@hanmail.n...   \n",
      "2  전남드래곤즈 해맞이 다짐…선수 영입 활발 이성훈 sinawi@hanmail.net ...   \n",
      "3  11~24일, 매실·감·참다래 등 지역특화작목 이성훈 sinawi@hanmail.n...   \n",
      "4  홍콩 크루즈선사‘아쿠아리우스’ 4, 6월 여수항 입항 이성훈 sinawi@hanma...   \n",
      "\n",
      "                                                 abs  \n",
      "0  전라남도가 쌀 과잉문제를 근본적으로 해결하기 위해 올해부터 벼를 심었던 논에 벼 대...  \n",
      "1  여수시는 컬러빌리지 사업에 8억원을 투입하여 ‘색채와 빛’ 도시를 완성하여 고소천사...  \n",
      "2  전남드래곤즈 임직원과 선수단이 4일 구봉산 정상에 올라 일출을 보며 2018년 구단...  \n",
      "3  광양시는 농업인들의 경쟁력을 높이고, 소득안정을 위해 매실·감·참다래 등 지역특화작...  \n",
      "4  올해 4월과 6월 두 차례에 걸쳐 타이완의 크루즈 관광객 4000여명이 여수에 입항...  \n"
     ]
    }
   ],
   "source": [
    "raw_df = raw_df.iloc[:, 1:]\n",
    "print(raw_df.head())"
   ]
  },
  {
   "cell_type": "markdown",
   "metadata": {},
   "source": [
    "3. 정규 표현식"
   ]
  },
  {
   "cell_type": "code",
   "execution_count": 53,
   "metadata": {},
   "outputs": [
    {
     "name": "stdout",
     "output_type": "stream",
     "text": [
      "정규 표현식 적용 전 데이터 프레임\n",
      "                                             sentence  \\\n",
      "20  광양상의, 기업 경기 현황 조사…기업들, 보수적 경영활동 강화 이성훈 sinawi@...   \n",
      "21  내 인생 첫 스크린‘광양 제일극장’ 광양뉴스 webmaster@gynet.co.kr...   \n",
      "22  중마도서관‘나만의 그림책 만들기’10권 제작 이성훈 sinawi@hanmail.ne...   \n",
      "23  1월 말까지, 읍면동 농업인상담소에 신청 이성훈 sinawi@hanmail.net ...   \n",
      "24  누락자 발생예방 위한 홍보·접수‘총력’ 이성훈 sinawi@hanmail.net 광...   \n",
      "25  어린이들의 꿈과 희망을 찾는‘희망도서관’ 김영신 기자 yskim0966@naver....   \n",
      "26  31일까지…위택스? 이성훈 sinawi@hanmail.net 광양시는 매년 6월과 ...   \n",
      "27  도로점용허가 필수, 규격? 이성훈 sinawi@hanmail.net 광양시는 올해 ...   \n",
      "28  ‘아이 양육하기 좋은 도시’탄력 기대 이성훈 sinawi@hanmail.net 광양...   \n",
      "29  시민과 1:1 카톡방…SNS 소통행정 확대 이성훈 sinawi@hanmail.net...   \n",
      "\n",
      "                                                  abs  \n",
      "20  광양상공회의소 1분기 기업경기전망 지수(BSI)를 조사한 결과 올해 경기 전망은 지...  \n",
      "21  80년대 초반 광양 제일극장은 동시대를 살아온 사람들의 추억이 엮여있는 문화의 공간...  \n",
      "22  광양시가 지난해 3월부터 중마도서관의 성인 대상 야간 프로그램인 ‘나만의 그림책 만...  \n",
      "23  광양시는 올해 과수·채소·화훼·특작, 식량작물, 기술지원 등 5개 분야 18개 사업...  \n",
      "24  광양시는 8일 ‘광양시 일자리 안정자금 지원단’ 협의회를 개최하고 일자리 안정자금 ...  \n",
      "25  ‘희망도서관’은 책을 활용한 놀이와 체험 프로그램을 제공하는 하는 광양 유일의 어린...  \n",
      "26  광양시는 오는 16일부터 31일까지 자동차세 연납을 신청하면 10%까지 자동차세를 ...  \n",
      "27  광양시는 올해 민간 재활용사업자가 배치한 헌옷 수거함의 관리 방안을 검토하고 정비 ...  \n",
      "28  광양시가 전남최초로 유니세프로부터 아동친화도시 인증을 받아 그동안 추진해온 전국 최...  \n",
      "29  광양시는 스마트폰 사용자가 많이 사용하고 있는 카카오톡에 '광양시청' 계정을 개설하...  \n",
      "\n",
      "정규 표현식 적용 후 데이터 프레임\n",
      "                                             sentence  \\\n",
      "20  광양상의, 기업 경기 현황 조사 기업들, 보수적 경영활동 강화 이성훈 우리 지역 기...   \n",
      "21  내 인생 첫 스크린 광양 제일극장 광양뉴스 광양읍의 80년대 초반은 그야말로 팍팍한...   \n",
      "22  중마도서관 나만의 그림책 만들기 10권 제작 이성훈 광양시가 지난해 3월부터 중마도...   \n",
      "23  1월 말까지, 읍면동 농업인상담소에 신청 이성훈 광양시는 농업의 발전과 농업인의 다...   \n",
      "24  누락자 발생예방 위한 홍보 접수 총력 이성훈 광양시는 지난 8일 신현숙 부시장 주재...   \n",
      "25  어린이들의 꿈과 희망을 찾는 희망도서관 김영신 기자 아이들 눈높이에 맞춘 책장과 의...   \n",
      "26  31일까지 위택스? 이성훈 광양시는 매년 6월과 12월 두 차례 정기분으로 부과되는...   \n",
      "27  도로점용허가 필수, 규격? 이성훈 광양시는 올해 도로가에 무분별하게 난립하고 있는 ...   \n",
      "28  아이 양육하기 좋은 도시 탄력 기대 이성훈 광양시는 지난 11일 전라남도에서는 최초...   \n",
      "29  시민과 1 1 카톡방 SNS 소통행정 확대 이성훈 광양시는 지난 5일 스마트폰 사용...   \n",
      "\n",
      "                                                  abs  \n",
      "20  광양상공회의소 1분기 기업경기전망 지수를 조사한 결과 올해 경기 전망은 지난해와 큰...  \n",
      "21  80년대 초반 광양 제일극장은 동시대를 살아온 사람들의 추억이 엮여있는 문화의 공간...  \n",
      "22  광양시가 지난해 3월부터 중마도서관의 성인 대상 야간 프로그램인 나만의 그림책 만들...  \n",
      "23  광양시는 올해 과수 채소 화훼 특작, 식량작물, 기술지원 등 5개 분야 18개 사업...  \n",
      "24  광양시는 8일 광양시 일자리 안정자금 지원단 협의회를 개최하고 일자리 안정자금 지원...  \n",
      "25  희망도서관 은 책을 활용한 놀이와 체험 프로그램을 제공하는 하는 광양 유일의 어린이...  \n",
      "26  광양시는 오는 16일부터 31일까지 자동차세 연납을 신청하면 10 까지 자동차세를 ...  \n",
      "27  광양시는 올해 민간 재활용사업자가 배치한 헌옷 수거함의 관리 방안을 검토하고 정비 ...  \n",
      "28  광양시가 전남최초로 유니세프로부터 아동친화도시 인증을 받아 그동안 추진해온 전국 최...  \n",
      "29  광양시는 스마트폰 사용자가 많이 사용하고 있는 카카오톡에 '광양시청' 계정을 개설하...  \n"
     ]
    }
   ],
   "source": [
    "sentence = raw_df['sentence']\n",
    "abs = raw_df['abs']\n",
    "\n",
    "print(\"정규 표현식 적용 전 데이터 프레임\")\n",
    "print(raw_df[20:30])\n",
    "\n",
    "def regex_column(columnList):\n",
    "  if not isinstance(columnList, str):                                                   # Nan을 빈 문자열로 대체\n",
    "      return ''\n",
    "  columnList = re.sub(r'\\S+@\\S+\\.\\S+', '', columnList)                                  # 이메일 삭제\n",
    "  columnList = columnList.replace('\\n', '')                                             # 개행 삭제\n",
    "  columnList = re.sub(r'\\[.*?\\]|\\{.*?\\}|\\(.*?\\)', '', columnList)                       # 소,중,대괄호 내용 삭제\n",
    "  columnList = re.sub(r'[^가-힣a-zA-Z0-9\\u4e00-\\u9fff\\s.,!?\\'\\\"~]', ' ', columnList)    # 이상한 특수문자 삭제\n",
    "  columnList = re.sub(r'\\s+', ' ', columnList).strip()                                  # 양 끝 공백 삭제\n",
    "  return columnList\n",
    "\n",
    "sentence = sentence.apply(regex_column)\n",
    "abs = abs.apply(regex_column)\n",
    "\n",
    "df = pd.DataFrame({\n",
    "    'sentence':sentence,\n",
    "    'abs':abs\n",
    "})\n",
    "\n",
    "print(\"\\n정규 표현식 적용 후 데이터 프레임\")\n",
    "print(df[20:30])"
   ]
  },
  {
   "cell_type": "markdown",
   "metadata": {},
   "source": [
    "4. 난수 날리기"
   ]
  },
  {
   "cell_type": "code",
   "execution_count": 54,
   "metadata": {},
   "outputs": [
    {
     "name": "stdout",
     "output_type": "stream",
     "text": [
      "난수 날리기 전 데이터프레임 길이 : 274105\n",
      "난수 날리기 후 데이터프레임 길이 : 274105\n"
     ]
    }
   ],
   "source": [
    "print(f'난수 날리기 전 데이터프레임 길이 : {len(df)}')\n",
    "df = df.dropna()\n",
    "print(f'난수 날리기 후 데이터프레임 길이 : {len(df)}')"
   ]
  },
  {
   "cell_type": "markdown",
   "metadata": {},
   "source": [
    "5. 문자열 길이 제한 하기"
   ]
  },
  {
   "cell_type": "markdown",
   "metadata": {},
   "source": [
    "5-1. 문자열 길이 시각화"
   ]
  },
  {
   "cell_type": "code",
   "execution_count": 55,
   "metadata": {},
   "outputs": [
    {
     "name": "stdout",
     "output_type": "stream",
     "text": [
      "\n",
      "Sentence 열 길이:\n",
      "최대 길이: 6741, 최소 길이: 3, 평균 길이: 660.49\n",
      "\n",
      "Abs 열 길이:\n",
      "최대 길이: 682, 최소 길이: 0, 평균 길이: 127.50\n"
     ]
    },
    {
     "data": {
      "image/png": "[encoded data removed]",
      "text/plain": [
       "<Figure size 1200x600 with 2 Axes>"
      ]
     },
     "metadata": {},
     "output_type": "display_data"
    }
   ],
   "source": [
    "def data_length_distribution(df, sentence='sentence', abs='abs'):\n",
    "  df['sentence_length'] = df[sentence].apply(len)\n",
    "  df['abs_length'] = df[abs].apply(len)\n",
    "\n",
    "  sentence_max_length = df['sentence_length'].max()\n",
    "  sentence_min_length = df['sentence_length'].min()\n",
    "  sentence_mean_length = df['sentence_length'].mean()\n",
    "\n",
    "  abs_max_length = df['abs_length'].max()\n",
    "  abs_min_length = df['abs_length'].min()\n",
    "  abs_mean_length = df['abs_length'].mean()\n",
    "\n",
    "  print(\"\\nSentence 열 길이:\")\n",
    "  print(f\"최대 길이: {sentence_max_length}, 최소 길이: {sentence_min_length}, 평균 길이: {sentence_mean_length:.2f}\")\n",
    "\n",
    "  print(\"\\nAbs 열 길이:\")\n",
    "  print(f\"최대 길이: {abs_max_length}, 최소 길이: {abs_min_length}, 평균 길이: {abs_mean_length:.2f}\")\n",
    "\n",
    "  plt.figure(figsize=(12, 6))\n",
    "\n",
    "  plt.subplot(1, 2, 1)\n",
    "  plt.hist(df['sentence_length'], bins=10, color='blue', alpha=0.7)\n",
    "  plt.title('Sentence Length Distribution')\n",
    "  plt.xlabel('Length')\n",
    "  plt.ylabel('Frequency')\n",
    "\n",
    "  plt.subplot(1, 2, 2)\n",
    "  plt.hist(df['abs_length'], bins=10, color='orange', alpha=0.7)\n",
    "  plt.title('Abs Length Distribution')\n",
    "  plt.xlabel('Length')\n",
    "  plt.ylabel('Frequency')\n",
    "\n",
    "  plt.tight_layout()\n",
    "  plt.show()\n",
    "  df = df.drop(columns=['sentence_length','abs_length'])\n",
    "  \n",
    "data_length_distribution(df)\n"
   ]
  },
  {
   "cell_type": "markdown",
   "metadata": {},
   "source": [
    "5-2. 길이 제한"
   ]
  },
  {
   "cell_type": "code",
   "execution_count": 56,
   "metadata": {},
   "outputs": [
    {
     "name": "stdout",
     "output_type": "stream",
     "text": [
      "\n",
      "Sentence 열 길이:\n",
      "최대 길이: 999, 최소 길이: 11, 평균 길이: 593.81\n",
      "\n",
      "Abs 열 길이:\n",
      "최대 길이: 149, 최소 길이: 12, 평균 길이: 111.93\n"
     ]
    },
    {
     "data": {
      "image/png": "[encoded data removed]",
      "text/plain": [
       "<Figure size 1200x600 with 2 Axes>"
      ]
     },
     "metadata": {},
     "output_type": "display_data"
    },
    {
     "name": "stdout",
     "output_type": "stream",
     "text": [
      "길이 제한 전 데이터 프레임 길이 : 274105\n",
      "길이 제한 후 데이터 프레임 길이 : 186982\n",
      "삭제 된 행 : 87123\n"
     ]
    }
   ],
   "source": [
    "pre_length = len(df)\n",
    "\n",
    "df = df[(df['sentence'].str.len() > 10) & (df['sentence'].str.len() < 1000)]\n",
    "df = df[(df['abs'].str.len() > 10) & (df['abs'].str.len() < 150)] # & (df['abs'].str.len() < 150)\n",
    "\n",
    "data_length_distribution(df)\n",
    "\n",
    "after_length = len(df)\n",
    "\n",
    "print(f'길이 제한 전 데이터 프레임 길이 : {pre_length}')\n",
    "print(f'길이 제한 후 데이터 프레임 길이 : {after_length}')\n",
    "print(f'삭제 된 행 : {pre_length-after_length}')\n",
    "\n",
    "df.to_csv('D:/TJ_FInal_Project/KDJ/News_Summarization/Data/문서요약 텍스트/Preprocess/finalPreprocess.csv')"
   ]
  },
  {
   "cell_type": "markdown",
   "metadata": {},
   "source": [
    "6. 토큰화"
   ]
  },
  {
   "cell_type": "markdown",
   "metadata": {},
   "source": [
    "6-1. SubwordTokenizer 실행"
   ]
  },
  {
   "cell_type": "code",
   "execution_count": 57,
   "metadata": {},
   "outputs": [
    {
     "name": "stdout",
     "output_type": "stream",
     "text": [
      "토크나이저 총 소요 시간: 0시간 52분 29.70초\n"
     ]
    }
   ],
   "source": [
    "sentences = []\n",
    "for sentence in df['sentence']:\n",
    "    sentences.append(sentence)\n",
    "abs = []\n",
    "for sentence in df['abs']:\n",
    "    abs.append(sentence)\n",
    "\n",
    "start_time = time.time()\n",
    "\n",
    "tokenizer = tfds.deprecated.text.SubwordTextEncoder.build_from_corpus(\n",
    "    sentences + abs, target_vocab_size = 2**14\n",
    ")\n",
    "\n",
    "end_time = time.time()\n",
    "total_time = end_time - start_time\n",
    "\n",
    "# 초를 시, 분, 초로 변환\n",
    "hours = int(total_time // 3600)\n",
    "minutes = int((total_time % 3600) // 60)\n",
    "seconds = total_time % 60\n",
    "\n",
    "print(f\"토크나이저 총 소요 시간: {hours}시간 {minutes}분 {seconds:.2f}초\")\n",
    "tokenizer.save_to_file('D:/TJ_FInal_Project/KDJ/News_Summarization/Data/문서요약 텍스트/Preprocess/tokenizer')"
   ]
  },
  {
   "cell_type": "markdown",
   "metadata": {},
   "source": [
    "6-2. 토큰화 검증"
   ]
  },
  {
   "cell_type": "code",
   "execution_count": 58,
   "metadata": {},
   "outputs": [
    {
     "name": "stdout",
     "output_type": "stream",
     "text": [
      "토큰 크기: 16360\n",
      "\n",
      "토큰 예시: ['. ', ', ', '을_', '의_', '에_', '는_', '이_', '를_', '고_', '은_']\n",
      "\n",
      "인코딩 테스트 - 전: 1월 말까지, 읍면동 농업인상담소에 신청 이성훈 광양시는 농업의 발전과 농업인의 다양한 영농기술 습득을 위해 올해 신기술 보급 시범사업에 10억원을 투자한다. 과수분야 는 기후온난화 대응 아열대소득과수 도입시범으로 1개소, 아열대과수 브랜드 육성 규격박스 1만5000매 제작, 돌발병해충 방제기술 시범보급, 농작물 병해충 방제비 지원 등 4개 사업이 추진된다. 채소분야 는 단동하우스 분산제어 환경조절시스템 보급 이상고온 대응 시설채소 온도저감기술 시범 수정벌 이용 수박생력화 재배 시범 딸기 고설재배 시범 고품질 생강재배단지조성 생강가공공장 신축 생강브랜드육성 규격박스 제작 왕토란 틈새작목 시범 등 총 8개 사업이다. 화훼 특작분야 는 생산비절감 화훼류 경쟁력제고 시범, 화훼 브랜드육성 규격박스 제작, 취나물 비가림하우스 시설 설치, 취나물 브랜드 육성 규격박스 제작 등 4개 사업이 이뤄진다. 사업 참여를 희망하는 농가는 오는 31일까지 해당 읍면동 농업인상담소를 방문해 사업을 신청하면 된다. 시는 오는 3월 중에 확정될 사업을 차질 없이 진행될 수 있도록 사업비를 신속하게 투입해 지역경제 활성화를 이끌어 낼 방침이다.\n",
      "\n",
      "인코딩 테스트 - 후: [930, 496, 1158, 2, 12291, 16136, 3048, 998, 7853, 1869, 6359, 889, 5296, 6, 857, 4, 6207, 3048, 4, 59, 3740, 623, 2002, 2268, 3, 29, 70, 10397, 6080, 4191, 5, 10467, 3, 13485, 26, 1, 7522, 487, 6, 7557, 483, 635, 269, 2006, 103, 10854, 1506, 7522, 16136, 1407, 3920, 20, 3179, 134, 2, 103, 10854, 7522, 16136, 766, 2434, 12706, 9737, 11024, 3425, 4502, 1105, 2, 979, 11017, 11713, 16136, 5964, 623, 3920, 2021, 2, 15639, 370, 11713, 16136, 5964, 391, 192, 17, 1440, 1169, 8392, 1, 8595, 487, 6, 230, 124, 7439, 8442, 5079, 16136, 445, 4973, 1141, 6080, 906, 39, 355, 2006, 725, 8595, 16136, 6175, 2891, 623, 5431, 3573, 9762, 1782, 15607, 328, 1274, 269, 8147, 5431, 7525, 16136, 39, 451, 8147, 5431, 11660, 328, 162, 2182, 2511, 1151, 328, 162, 2719, 2120, 9391, 328, 162, 1134, 2434, 12706, 9737, 3485, 713, 325, 1486, 8363, 651, 948, 3470, 5431, 17, 110, 3005, 2697, 1, 143, 12611, 16136, 1022, 948, 487, 6, 541, 86, 11287, 143, 12611, 1858, 5769, 12272, 3920, 2, 143, 12611, 16136, 1134, 2434, 12706, 9737, 1105, 2, 1091, 130, 780, 86, 63, 604, 7439, 448, 910, 2, 1091, 130, 780, 766, 2434, 12706, 9737, 3485, 17, 1440, 1169, 9213, 1, 129, 2067, 4667, 2777, 6, 73, 4362, 509, 12291, 16136, 3048, 998, 3503, 1143, 222, 8165, 94, 1, 262, 73, 707, 2665, 2540, 58, 222, 12614, 395, 4073, 19, 90, 6925, 8283, 2626, 1920, 986, 6015, 2409, 790, 16150]\n"
     ]
    }
   ],
   "source": [
    "tokenizer = tfds.deprecated.text.SubwordTextEncoder.load_from_file('D:/TJ_FInal_Project/KDJ/News_Summarization/Data/문서요약 텍스트/Preprocess/tokenizer')\n",
    "\n",
    "print(f'토큰 크기: {tokenizer.vocab_size}')\n",
    "print(f'\\n토큰 예시: {tokenizer.subwords[:10]}')\n",
    "print(f'\\n인코딩 테스트 - 전: {sentences[19]}')\n",
    "encodingList = tokenizer.encode(sentences[19])\n",
    "print(f'\\n인코딩 테스트 - 후: {encodingList}')"
   ]
  },
  {
   "cell_type": "markdown",
   "metadata": {},
   "source": [
    "7. 구분 토큰 추가 및 패딩"
   ]
  },
  {
   "cell_type": "code",
   "execution_count": 59,
   "metadata": {},
   "outputs": [
    {
     "name": "stdout",
     "output_type": "stream",
     "text": [
      "sentence 원본 : 마을공동체 활성화, 마을가꾸기, 희망마을 만들기 이성훈 순천시는 오는 16일까지 주민 스스로 행복한 도시, 따뜻한 순천을 만들어가는 2018 따순마을 만들기 공모사업 참여 신청을 받는다. 따순 마을 만들기 사업 은 순천시에 주소를 둔 5인 이상의 주민모임 또는 비영리 단체 등이 참여할 수 있다. 사업 참여를 원하는 단체 및 주민모임은 관련 서류를 구비해 읍면동행정복지센터 또는 순천시 마을공동체지원센터로 제출하면 된다. 참여사업 유형은 마을가꾸기 마을알리기 마을지키기 마을꿈꾸기 마을나누기 지역자원을 활용하여 마을공동체를 활성화하거나 지역문제를 해결 할 수 있는 사업 등이다. 이와 함께 순천시는 지역 현안문제를 공동으로 논의하고 협업을 통한 문제해결로 마을공동체 형성에 기여하는 순천형 희망마을 만들기 사업 도 공모 중이다. 자세한 사항은 순천시청 홈페이지를 참고하거나, 시민소통과 또는 마을공동체지원센터로 문의하면 된다.\n",
      "\n",
      "sentence 토큰화 및 패딩 결과 : [16360 15039 16136  1530     2   655 13069    69     2  1085   902  1487\n",
      "  6359   889  9478     6    73 15022   896  2870  2130   433     2  3538\n",
      "  4400     3 13789     6  4301  1396   539   902  1487 12309  1036  2590\n",
      "  2591     1  1396  2180   902  1487   129    10  9478     5  4293     8\n",
      "  3118 16157    30  1347   622 13277   692 15236 16136  1223   219  2334\n",
      "    19    16     1   129  2067  2132  1223    28   622  3875    10   126\n",
      " 11066 14256    31 12291  5887 16136   692  9478 16136 15039  3152    18\n",
      "  9489    94     1  1109   129  4402    10   655 13069    46   655 10172\n",
      "   655 15410   655  2178  2482    46   655  4217    46 14678   416  3451\n",
      "   113 15039     8  7781   760 13146  1881  6606    25    19    27   129\n",
      "  2124     1   700    53  9478     6    57  4520  1139  3105 13533 16136\n",
      "  6374   443  1307  2395    18 15039 16136  2361     5  4537     6  4400\n",
      "   145  1085   902  1487   129    23  3243   750     1  1906  2892  9478\n",
      "   610  3427  6160   132  7696     2   565  9748   692 15039  3152    18\n",
      "  5025    94 16150 16361     0     0     0     0     0     0     0     0\n",
      "     0     0     0     0     0     0     0     0     0     0     0     0\n",
      "     0     0     0     0     0     0     0     0     0     0     0     0\n",
      "     0     0     0     0     0     0     0     0     0     0     0     0\n",
      "     0     0     0     0     0     0     0     0     0     0     0     0\n",
      "     0     0     0     0     0     0     0     0     0     0     0     0\n",
      "     0     0     0     0     0     0     0     0     0     0     0     0\n",
      "     0     0     0     0     0     0     0     0     0     0     0     0\n",
      "     0     0     0     0     0     0     0     0     0     0     0     0\n",
      "     0     0     0     0     0     0     0     0     0     0     0     0\n",
      "     0     0     0     0     0     0     0     0     0     0     0     0\n",
      "     0     0     0     0     0     0     0     0     0     0     0     0\n",
      "     0     0     0     0     0     0     0     0     0     0     0     0\n",
      "     0     0     0     0     0     0     0     0     0     0     0     0\n",
      "     0     0     0     0     0     0     0     0     0     0     0     0\n",
      "     0     0     0     0     0     0     0     0     0     0     0     0\n",
      "     0     0     0     0     0     0     0     0     0     0     0     0\n",
      "     0     0     0     0     0     0     0     0     0     0     0     0\n",
      "     0     0     0     0     0     0     0     0     0     0     0     0\n",
      "     0     0     0     0     0     0     0     0     0     0     0     0\n",
      "     0     0     0     0     0     0     0     0     0     0     0     0\n",
      "     0     0     0     0     0     0     0     0     0     0     0     0\n",
      "     0     0     0     0     0     0     0     0     0     0     0     0\n",
      "     0     0     0     0     0     0     0     0     0     0     0     0\n",
      "     0     0     0     0     0     0     0     0     0     0     0     0\n",
      "     0     0     0     0     0     0     0     0     0     0     0     0\n",
      "     0     0     0     0     0     0     0     0     0     0     0     0\n",
      "     0     0     0     0     0     0     0     0     0     0     0     0\n",
      "     0     0     0     0     0     0     0     0     0     0     0     0\n",
      "     0     0     0     0     0     0     0     0     0     0     0     0\n",
      "     0     0     0     0     0     0     0     0     0     0     0     0\n",
      "     0     0     0     0     0     0     0     0     0     0     0     0\n",
      "     0     0     0     0     0     0     0     0     0     0     0     0\n",
      "     0     0     0     0     0     0     0     0     0     0     0     0\n",
      "     0     0     0     0     0     0     0     0     0     0     0     0\n",
      "     0     0     0     0     0     0     0     0     0     0     0     0\n",
      "     0     0     0     0     0     0     0     0     0     0     0     0\n",
      "     0     0     0     0     0     0     0     0     0     0     0     0\n",
      "     0     0     0     0     0     0     0     0     0     0     0     0\n",
      "     0     0     0     0     0     0     0     0     0     0     0     0\n",
      "     0     0     0     0     0     0     0     0     0     0     0     0\n",
      "     0     0     0     0     0     0     0     0     0     0     0     0\n",
      "     0     0     0     0     0     0     0     0     0     0     0     0\n",
      "     0     0     0     0     0     0     0     0     0     0     0     0\n",
      "     0     0     0     0     0     0     0     0     0     0     0     0\n",
      "     0     0     0     0     0     0     0     0     0     0     0     0\n",
      "     0     0     0     0     0     0     0     0     0     0     0     0\n",
      "     0     0     0     0     0     0     0     0     0     0     0     0\n",
      "     0     0     0     0     0     0     0     0     0     0     0     0\n",
      "     0     0     0     0     0     0     0     0     0     0     0     0\n",
      "     0     0     0     0     0     0     0     0     0     0     0     0\n",
      "     0     0     0     0     0     0     0     0     0     0     0     0\n",
      "     0     0     0     0     0     0     0     0     0     0     0     0\n",
      "     0     0     0     0     0     0     0     0     0     0     0     0\n",
      "     0     0     0     0     0     0     0     0     0     0     0     0\n",
      "     0     0     0     0     0     0     0     0     0     0     0     0\n",
      "     0     0     0     0     0     0     0     0     0     0     0     0\n",
      "     0     0     0     0     0     0     0     0     0     0     0     0\n",
      "     0     0     0     0     0     0     0     0     0     0     0     0\n",
      "     0     0     0     0     0     0     0     0     0     0     0     0\n",
      "     0     0     0     0     0     0     0     0     0     0     0     0\n",
      "     0     0     0     0     0     0     0     0     0     0     0     0\n",
      "     0     0     0     0     0     0     0     0     0     0     0     0\n",
      "     0     0     0     0     0     0     0     0     0     0     0     0\n",
      "     0     0     0     0     0     0     0     0     0     0     0     0\n",
      "     0     0     0     0     0     0     0     0     0     0     0     0\n",
      "     0     0     0     0     0     0     0     0     0     0     0     0\n",
      "     0     0     0     0     0     0     0     0     0     0     0     0\n",
      "     0     0     0     0     0     0     0     0     0     0     0     0\n",
      "     0     0     0]\n",
      "\n",
      "abs 원본 : 순천시는 오는 16일까지 주민 스스로 행복한 도시, 따뜻한 순천을 만들기 위해 2018 따순마을 만들기 공모사업을 읍면동행복센터 또는 순천시 마을공동체지원센터를 통해 신청받는다.\n",
      "\n",
      "abs 토큰화 및 패딩 결과 : [16360  9478     6    73 15022   896  2870  2130   433     2  3538  4400\n",
      "     3  1487    29  4301  1396   539   902  1487  7278     3 12291  1064\n",
      "   471   692  9478 16136 15039  3152     8    34  1470  2591 16150 16361\n",
      "     0     0     0     0     0     0     0     0     0     0     0     0\n",
      "     0     0     0     0     0     0     0     0     0     0     0     0\n",
      "     0     0     0     0     0     0     0     0     0     0     0     0\n",
      "     0     0     0     0     0     0     0     0     0     0     0     0\n",
      "     0     0     0     0     0     0     0     0     0     0     0     0\n",
      "     0     0     0     0     0     0     0     0     0     0     0     0\n",
      "     0     0     0     0     0     0     0     0     0     0     0     0\n",
      "     0     0     0     0     0     0     0     0     0     0     0     0\n",
      "     0     0     0     0     0     0     0     0     0     0     0     0\n",
      "     0     0     0     0     0]\n",
      "\n",
      "총 소요 시간: 2분 15.67초\n"
     ]
    }
   ],
   "source": [
    "start_time = time.time()\n",
    "beforeSentence = sentences[99]\n",
    "beforeAbs = abs[99]\n",
    "\n",
    "START_TOKEN, END_TOKEN = [tokenizer.vocab_size], [tokenizer.vocab_size+1]\n",
    "VOCAB_SIZE = tokenizer.vocab_size + 2\n",
    "\n",
    "SEN_MAX_LENGTH = 999\n",
    "ABS_MAX_LENGTH = 149\n",
    "\n",
    "def tokenized_and_padding(sentences, abses):\n",
    "  tokenized_sentence, tokenized_abs = [], []\n",
    "  \n",
    "  for (sentence, abs) in zip(sentences, abses):\n",
    "    sentence = START_TOKEN + tokenizer.encode(sentence) + END_TOKEN\n",
    "    abs = START_TOKEN + tokenizer.encode(abs) + END_TOKEN\n",
    "    \n",
    "    tokenized_sentence.append(sentence)\n",
    "    tokenized_abs.append(abs)\n",
    "    \n",
    "  tokenized_sentence = tf.keras.preprocessing.sequence.pad_sequences(\n",
    "        tokenized_sentence, maxlen=SEN_MAX_LENGTH, padding='post'\n",
    "    )\n",
    "  tokenized_abs = tf.keras.preprocessing.sequence.pad_sequences(\n",
    "      tokenized_abs, maxlen=ABS_MAX_LENGTH, padding='post'\n",
    "  )\n",
    "  \n",
    "  return tokenized_sentence, tokenized_abs\n",
    "\n",
    "sentences, abs = tokenized_and_padding(sentences, abs)\n",
    "\n",
    "print(f'sentence 원본 : {beforeSentence}')\n",
    "print(f'\\nsentence 토큰화 및 패딩 결과 : {sentences[99]}')\n",
    "print(f'\\nabs 원본 : {beforeAbs}')\n",
    "print(f'\\nabs 토큰화 및 패딩 결과 : {abs[99]}')\n",
    "\n",
    "end_time = time.time()\n",
    "total_time = end_time - start_time\n",
    "minutes, seconds = divmod(total_time, 60)\n",
    "\n",
    "print(f\"\\n총 소요 시간: {int(minutes)}분 {seconds:.2f}초\")"
   ]
  },
  {
   "cell_type": "markdown",
   "metadata": {},
   "source": [
    "8. 결과 저장"
   ]
  },
  {
   "cell_type": "code",
   "execution_count": 61,
   "metadata": {},
   "outputs": [
    {
     "name": "stdout",
     "output_type": "stream",
     "text": [
      "피클 저장 완료!\n"
     ]
    }
   ],
   "source": [
    "import pickle\n",
    "\n",
    "with open('D:/TJ_FInal_Project/KDJ/News_Summarization/Data/pickle/sentences.pkl', 'wb') as f:\n",
    "    pickle.dump(sentences, f)\n",
    "\n",
    "with open('D:/TJ_FInal_Project/KDJ/News_Summarization/Data/pickle/abs.pkl', 'wb') as f:\n",
    "    pickle.dump(abs, f)\n",
    "\n",
    "print('피클 저장 완료!')"
   ]
  }
 ],
 "metadata": {
  "kernelspec": {
   "display_name": "tensor",
   "language": "python",
   "name": "python3"
  },
  "language_info": {
   "codemirror_mode": {
    "name": "ipython",
    "version": 3
   },
   "file_extension": ".py",
   "mimetype": "text/x-python",
   "name": "python",
   "nbconvert_exporter": "python",
   "pygments_lexer": "ipython3",
   "version": "3.8.18"
  }
 },
 "nbformat": 4,
 "nbformat_minor": 2
}
