{
 "cells": [
  {
   "cell_type": "markdown",
   "metadata": {},
   "source": [
    "#################################\n",
    "##    뉴스 기사 요약 전처리   ##\n",
    "#################################"
   ]
  },
  {
   "cell_type": "markdown",
   "metadata": {},
   "source": [
    "0. 라이브러리 임포트"
   ]
  },
  {
   "cell_type": "code",
   "execution_count": 25,
   "metadata": {},
   "outputs": [],
   "source": [
    "import pandas as pd\n",
    "import re\n",
    "import matplotlib.pyplot as plt\n",
    "import tensorflow as tf\n",
    "import tensorflow_datasets as tfds\n",
    "import time\n",
    "from tqdm import tqdm"
   ]
  },
  {
   "cell_type": "markdown",
   "metadata": {},
   "source": [
    "1. 데이터 불러오기 및 합치기"
   ]
  },
  {
   "cell_type": "code",
   "execution_count": 26,
   "metadata": {},
   "outputs": [
    {
     "name": "stdout",
     "output_type": "stream",
     "text": [
      "원본 트레인 데이터 길이 : 243983\n",
      "원본 검증 데이터 길이 : 30122\n",
      "예상 최종 데이터 길이 : 274105\n",
      "실제 데이터 길이 : 274105\n",
      "                           title  \\\n",
      "0         논 타작물 재배, 2월 말까지 신청하세요   \n",
      "1  여수시, 컬러빌리지 마무리...‘색채와 빛’도시 완성   \n",
      "2        “새해 정기 받고 올해는 반드시 일내자!”   \n",
      "3          농업인 역량 강화, 새해 실용교육 실시   \n",
      "4          타이완 크루즈관광객 4천여명‘전남’온다   \n",
      "\n",
      "                                            sentence  \\\n",
      "0  ha당 조사료 400만원…작물별 차등 지원 이성훈 sinawi@hanmail.net...   \n",
      "1  8억 투입, 고소천사벽화·자산마을에 색채 입혀 이성훈 sinawi@hanmail.n...   \n",
      "2  전남드래곤즈 해맞이 다짐…선수 영입 활발 이성훈 sinawi@hanmail.net ...   \n",
      "3  11~24일, 매실·감·참다래 등 지역특화작목 이성훈 sinawi@hanmail.n...   \n",
      "4  홍콩 크루즈선사‘아쿠아리우스’ 4, 6월 여수항 입항 이성훈 sinawi@hanma...   \n",
      "\n",
      "                                                 abs  \n",
      "0  전라남도가 쌀 과잉문제를 근본적으로 해결하기 위해 올해부터 벼를 심었던 논에 벼 대...  \n",
      "1  여수시는 컬러빌리지 사업에 8억원을 투입하여 ‘색채와 빛’ 도시를 완성하여 고소천사...  \n",
      "2  전남드래곤즈 임직원과 선수단이 4일 구봉산 정상에 올라 일출을 보며 2018년 구단...  \n",
      "3  광양시는 농업인들의 경쟁력을 높이고, 소득안정을 위해 매실·감·참다래 등 지역특화작...  \n",
      "4  올해 4월과 6월 두 차례에 걸쳐 타이완의 크루즈 관광객 4000여명이 여수에 입항...  \n"
     ]
    }
   ],
   "source": [
    "raw_train_df = pd.read_csv('D:/TJ_FInal_Project/KDJ/News_Summarization/Data/문서요약 텍스트/Preprocess/train.csv')\n",
    "raw_valid_df = pd.read_csv('D:/TJ_FInal_Project/KDJ/News_Summarization/Data/문서요약 텍스트/Preprocess/valid.csv')\n",
    "\n",
    "raw_df = pd.concat([raw_train_df, raw_valid_df], ignore_index=True)\n",
    "\n",
    "print(f'원본 트레인 데이터 길이 : {len(raw_train_df)}')\n",
    "print(f'원본 검증 데이터 길이 : {len(raw_valid_df)}')\n",
    "print(f'예상 최종 데이터 길이 : {len(raw_train_df)+len(raw_valid_df)}')\n",
    "print(f'실제 데이터 길이 : {len(raw_df)}')\n",
    "print(raw_df.head())\n",
    "# raw_df = pd.read_csv('D:/TJ_FInal_Project/KDJ/News_Summarization/Data/문서요약 텍스트/Preprocess/finalPreprocess.csv')"
   ]
  },
  {
   "cell_type": "markdown",
   "metadata": {},
   "source": [
    "2. title 열 날리기"
   ]
  },
  {
   "cell_type": "code",
   "execution_count": 27,
   "metadata": {},
   "outputs": [
    {
     "name": "stdout",
     "output_type": "stream",
     "text": [
      "                                            sentence  \\\n",
      "0  ha당 조사료 400만원…작물별 차등 지원 이성훈 sinawi@hanmail.net...   \n",
      "1  8억 투입, 고소천사벽화·자산마을에 색채 입혀 이성훈 sinawi@hanmail.n...   \n",
      "2  전남드래곤즈 해맞이 다짐…선수 영입 활발 이성훈 sinawi@hanmail.net ...   \n",
      "3  11~24일, 매실·감·참다래 등 지역특화작목 이성훈 sinawi@hanmail.n...   \n",
      "4  홍콩 크루즈선사‘아쿠아리우스’ 4, 6월 여수항 입항 이성훈 sinawi@hanma...   \n",
      "\n",
      "                                                 abs  \n",
      "0  전라남도가 쌀 과잉문제를 근본적으로 해결하기 위해 올해부터 벼를 심었던 논에 벼 대...  \n",
      "1  여수시는 컬러빌리지 사업에 8억원을 투입하여 ‘색채와 빛’ 도시를 완성하여 고소천사...  \n",
      "2  전남드래곤즈 임직원과 선수단이 4일 구봉산 정상에 올라 일출을 보며 2018년 구단...  \n",
      "3  광양시는 농업인들의 경쟁력을 높이고, 소득안정을 위해 매실·감·참다래 등 지역특화작...  \n",
      "4  올해 4월과 6월 두 차례에 걸쳐 타이완의 크루즈 관광객 4000여명이 여수에 입항...  \n"
     ]
    }
   ],
   "source": [
    "raw_df = raw_df.iloc[:, 1:]\n",
    "print(raw_df.head())"
   ]
  },
  {
   "cell_type": "markdown",
   "metadata": {},
   "source": [
    "3. 정규 표현식"
   ]
  },
  {
   "cell_type": "code",
   "execution_count": 28,
   "metadata": {},
   "outputs": [
    {
     "name": "stdout",
     "output_type": "stream",
     "text": [
      "정규 표현식 적용 전 데이터 프레임\n",
      "                                             sentence  \\\n",
      "20  광양상의, 기업 경기 현황 조사…기업들, 보수적 경영활동 강화 이성훈 sinawi@...   \n",
      "21  내 인생 첫 스크린‘광양 제일극장’ 광양뉴스 webmaster@gynet.co.kr...   \n",
      "22  중마도서관‘나만의 그림책 만들기’10권 제작 이성훈 sinawi@hanmail.ne...   \n",
      "23  1월 말까지, 읍면동 농업인상담소에 신청 이성훈 sinawi@hanmail.net ...   \n",
      "24  누락자 발생예방 위한 홍보·접수‘총력’ 이성훈 sinawi@hanmail.net 광...   \n",
      "25  어린이들의 꿈과 희망을 찾는‘희망도서관’ 김영신 기자 yskim0966@naver....   \n",
      "26  31일까지…위택스? 이성훈 sinawi@hanmail.net 광양시는 매년 6월과 ...   \n",
      "27  도로점용허가 필수, 규격? 이성훈 sinawi@hanmail.net 광양시는 올해 ...   \n",
      "28  ‘아이 양육하기 좋은 도시’탄력 기대 이성훈 sinawi@hanmail.net 광양...   \n",
      "29  시민과 1:1 카톡방…SNS 소통행정 확대 이성훈 sinawi@hanmail.net...   \n",
      "\n",
      "                                                  abs  \n",
      "20  광양상공회의소 1분기 기업경기전망 지수(BSI)를 조사한 결과 올해 경기 전망은 지...  \n",
      "21  80년대 초반 광양 제일극장은 동시대를 살아온 사람들의 추억이 엮여있는 문화의 공간...  \n",
      "22  광양시가 지난해 3월부터 중마도서관의 성인 대상 야간 프로그램인 ‘나만의 그림책 만...  \n",
      "23  광양시는 올해 과수·채소·화훼·특작, 식량작물, 기술지원 등 5개 분야 18개 사업...  \n",
      "24  광양시는 8일 ‘광양시 일자리 안정자금 지원단’ 협의회를 개최하고 일자리 안정자금 ...  \n",
      "25  ‘희망도서관’은 책을 활용한 놀이와 체험 프로그램을 제공하는 하는 광양 유일의 어린...  \n",
      "26  광양시는 오는 16일부터 31일까지 자동차세 연납을 신청하면 10%까지 자동차세를 ...  \n",
      "27  광양시는 올해 민간 재활용사업자가 배치한 헌옷 수거함의 관리 방안을 검토하고 정비 ...  \n",
      "28  광양시가 전남최초로 유니세프로부터 아동친화도시 인증을 받아 그동안 추진해온 전국 최...  \n",
      "29  광양시는 스마트폰 사용자가 많이 사용하고 있는 카카오톡에 '광양시청' 계정을 개설하...  \n",
      "\n",
      "정규 표현식 적용 후 데이터 프레임\n",
      "                                             sentence  \\\n",
      "20  광양상의, 기업 경기 현황 조사 기업들, 보수적 경영활동 강화 이성훈 우리 지역 기...   \n",
      "21  내 인생 첫 스크린 광양 제일극장 광양뉴스 광양읍의 80년대 초반은 그야말로 팍팍한...   \n",
      "22  중마도서관 나만의 그림책 만들기 10권 제작 이성훈 광양시가 지난해 3월부터 중마도...   \n",
      "23  1월 말까지, 읍면동 농업인상담소에 신청 이성훈 광양시는 농업의 발전과 농업인의 다...   \n",
      "24  누락자 발생예방 위한 홍보 접수 총력 이성훈 광양시는 지난 8일 신현숙 부시장 주재...   \n",
      "25  어린이들의 꿈과 희망을 찾는 희망도서관 김영신 기자 아이들 눈높이에 맞춘 책장과 의...   \n",
      "26  31일까지 위택스? 이성훈 광양시는 매년 6월과 12월 두 차례 정기분으로 부과되는...   \n",
      "27  도로점용허가 필수, 규격? 이성훈 광양시는 올해 도로가에 무분별하게 난립하고 있는 ...   \n",
      "28  아이 양육하기 좋은 도시 탄력 기대 이성훈 광양시는 지난 11일 전라남도에서는 최초...   \n",
      "29  시민과 1 1 카톡방 SNS 소통행정 확대 이성훈 광양시는 지난 5일 스마트폰 사용...   \n",
      "\n",
      "                                                  abs  \n",
      "20  광양상공회의소 1분기 기업경기전망 지수를 조사한 결과 올해 경기 전망은 지난해와 큰...  \n",
      "21  80년대 초반 광양 제일극장은 동시대를 살아온 사람들의 추억이 엮여있는 문화의 공간...  \n",
      "22  광양시가 지난해 3월부터 중마도서관의 성인 대상 야간 프로그램인 나만의 그림책 만들...  \n",
      "23  광양시는 올해 과수 채소 화훼 특작, 식량작물, 기술지원 등 5개 분야 18개 사업...  \n",
      "24  광양시는 8일 광양시 일자리 안정자금 지원단 협의회를 개최하고 일자리 안정자금 지원...  \n",
      "25  희망도서관 은 책을 활용한 놀이와 체험 프로그램을 제공하는 하는 광양 유일의 어린이...  \n",
      "26  광양시는 오는 16일부터 31일까지 자동차세 연납을 신청하면 10 까지 자동차세를 ...  \n",
      "27  광양시는 올해 민간 재활용사업자가 배치한 헌옷 수거함의 관리 방안을 검토하고 정비 ...  \n",
      "28  광양시가 전남최초로 유니세프로부터 아동친화도시 인증을 받아 그동안 추진해온 전국 최...  \n",
      "29  광양시는 스마트폰 사용자가 많이 사용하고 있는 카카오톡에 '광양시청' 계정을 개설하...  \n"
     ]
    }
   ],
   "source": [
    "sentence = raw_df['sentence']\n",
    "abs = raw_df['abs']\n",
    "\n",
    "print(\"정규 표현식 적용 전 데이터 프레임\")\n",
    "print(raw_df[20:30])\n",
    "\n",
    "def regex_column(columnList):\n",
    "  if not isinstance(columnList, str):                                                   # Nan을 빈 문자열로 대체\n",
    "      return ''\n",
    "  columnList = re.sub(r'\\S+@\\S+\\.\\S+', '', columnList)                                  # 이메일 삭제\n",
    "  columnList = columnList.replace('\\n', '')                                             # 개행 삭제\n",
    "  columnList = re.sub(r'\\[.*?\\]|\\{.*?\\}|\\(.*?\\)', '', columnList)                       # 소,중,대괄호 내용 삭제\n",
    "  columnList = re.sub(r'[^가-힣a-zA-Z0-9\\u4e00-\\u9fff\\s.,!?\\'\\\"~]', ' ', columnList)    # 이상한 특수문자 삭제\n",
    "  columnList = re.sub(r'\\s+', ' ', columnList).strip()                                  # 양 끝 공백 삭제\n",
    "  return columnList\n",
    "\n",
    "sentence = sentence.apply(regex_column)\n",
    "abs = abs.apply(regex_column)\n",
    "\n",
    "df = pd.DataFrame({\n",
    "    'sentence':sentence,\n",
    "    'abs':abs\n",
    "})\n",
    "\n",
    "print(\"\\n정규 표현식 적용 후 데이터 프레임\")\n",
    "print(df[20:30])"
   ]
  },
  {
   "cell_type": "markdown",
   "metadata": {},
   "source": [
    "4. 난수 날리기"
   ]
  },
  {
   "cell_type": "code",
   "execution_count": 29,
   "metadata": {},
   "outputs": [
    {
     "name": "stdout",
     "output_type": "stream",
     "text": [
      "난수 날리기 전 데이터프레임 길이 : 274105\n",
      "난수 날리기 후 데이터프레임 길이 : 274105\n"
     ]
    }
   ],
   "source": [
    "print(f'난수 날리기 전 데이터프레임 길이 : {len(df)}')\n",
    "df = df.dropna()\n",
    "print(f'난수 날리기 후 데이터프레임 길이 : {len(df)}')"
   ]
  },
  {
   "cell_type": "markdown",
   "metadata": {},
   "source": [
    "5. 문자열 길이 제한 하기"
   ]
  },
  {
   "cell_type": "markdown",
   "metadata": {},
   "source": [
    "5-1. 문자열 길이 시각화"
   ]
  },
  {
   "cell_type": "code",
   "execution_count": 30,
   "metadata": {},
   "outputs": [
    {
     "name": "stdout",
     "output_type": "stream",
     "text": [
      "\n",
      "Sentence 열 길이:\n",
      "최대 길이: 6741, 최소 길이: 3, 평균 길이: 660.49\n",
      "\n",
      "Abs 열 길이:\n",
      "최대 길이: 682, 최소 길이: 0, 평균 길이: 127.50\n"
     ]
    },
    {
     "data": {
      "image/png": "[encoded data removed]",
      "text/plain": [
       "<Figure size 1200x600 with 2 Axes>"
      ]
     },
     "metadata": {},
     "output_type": "display_data"
    }
   ],
   "source": [
    "def data_length_distribution(df, sentence='sentence', abs='abs'):\n",
    "  df['sentence_length'] = df[sentence].apply(len)\n",
    "  df['abs_length'] = df[abs].apply(len)\n",
    "\n",
    "  sentence_max_length = df['sentence_length'].max()\n",
    "  sentence_min_length = df['sentence_length'].min()\n",
    "  sentence_mean_length = df['sentence_length'].mean()\n",
    "\n",
    "  abs_max_length = df['abs_length'].max()\n",
    "  abs_min_length = df['abs_length'].min()\n",
    "  abs_mean_length = df['abs_length'].mean()\n",
    "\n",
    "  print(\"\\nSentence 열 길이:\")\n",
    "  print(f\"최대 길이: {sentence_max_length}, 최소 길이: {sentence_min_length}, 평균 길이: {sentence_mean_length:.2f}\")\n",
    "\n",
    "  print(\"\\nAbs 열 길이:\")\n",
    "  print(f\"최대 길이: {abs_max_length}, 최소 길이: {abs_min_length}, 평균 길이: {abs_mean_length:.2f}\")\n",
    "\n",
    "  plt.figure(figsize=(12, 6))\n",
    "\n",
    "  plt.subplot(1, 2, 1)\n",
    "  plt.hist(df['sentence_length'], bins=10, color='blue', alpha=0.7)\n",
    "  plt.title('Sentence Length Distribution')\n",
    "  plt.xlabel('Length')\n",
    "  plt.ylabel('Frequency')\n",
    "\n",
    "  plt.subplot(1, 2, 2)\n",
    "  plt.hist(df['abs_length'], bins=10, color='orange', alpha=0.7)\n",
    "  plt.title('Abs Length Distribution')\n",
    "  plt.xlabel('Length')\n",
    "  plt.ylabel('Frequency')\n",
    "\n",
    "  plt.tight_layout()\n",
    "  plt.show()\n",
    "  df = df.drop(columns=['sentence_length','abs_length'])\n",
    "  \n",
    "data_length_distribution(df)\n"
   ]
  },
  {
   "cell_type": "markdown",
   "metadata": {},
   "source": [
    "5-2. 길이 제한"
   ]
  },
  {
   "cell_type": "code",
   "execution_count": 31,
   "metadata": {},
   "outputs": [
    {
     "name": "stdout",
     "output_type": "stream",
     "text": [
      "\n",
      "Sentence 열 길이:\n",
      "최대 길이: 799, 최소 길이: 11, 평균 길이: 535.81\n",
      "\n",
      "Abs 열 길이:\n",
      "최대 길이: 149, 최소 길이: 12, 평균 길이: 111.60\n"
     ]
    },
    {
     "data": {
      "image/png": "[encoded data removed]",
      "text/plain": [
       "<Figure size 1200x600 with 2 Axes>"
      ]
     },
     "metadata": {},
     "output_type": "display_data"
    },
    {
     "name": "stdout",
     "output_type": "stream",
     "text": [
      "길이 제한 전 데이터 프레임 길이 : 274105\n",
      "길이 제한 후 데이터 프레임 길이 : 155997\n",
      "삭제 된 행 : 118108\n"
     ]
    }
   ],
   "source": [
    "pre_length = len(df)\n",
    "\n",
    "df = df[(df['sentence'].str.len() > 10) & (df['sentence'].str.len() < 800)]\n",
    "df = df[(df['abs'].str.len() > 10) & (df['abs'].str.len() < 150)] # & (df['abs'].str.len() < 150)\n",
    "\n",
    "data_length_distribution(df)\n",
    "\n",
    "after_length = len(df)\n",
    "\n",
    "print(f'길이 제한 전 데이터 프레임 길이 : {pre_length}')\n",
    "print(f'길이 제한 후 데이터 프레임 길이 : {after_length}')\n",
    "print(f'삭제 된 행 : {pre_length-after_length}')\n",
    "\n",
    "df.to_csv('D:/TJ_FInal_Project/KDJ/News_Summarization/Data/문서요약 텍스트/Preprocess/finalPreprocess.csv')"
   ]
  },
  {
   "cell_type": "markdown",
   "metadata": {},
   "source": [
    "6. 토큰화"
   ]
  },
  {
   "cell_type": "markdown",
   "metadata": {},
   "source": [
    "6-1. SubwordTokenizer 실행"
   ]
  },
  {
   "cell_type": "code",
   "execution_count": 36,
   "metadata": {},
   "outputs": [
    {
     "name": "stdout",
     "output_type": "stream",
     "text": [
      "토크나이저 총 소요 시간: 0시간 19분 46.50초\n"
     ]
    }
   ],
   "source": [
    "sentences = []\n",
    "for sentence in df['sentence']:\n",
    "    sentences.append(sentence)\n",
    "abs = []\n",
    "for sentence in df['abs']:\n",
    "    abs.append(sentence)\n",
    "\n",
    "start_time = time.time()\n",
    "\n",
    "tokenizer = tfds.deprecated.text.SubwordTextEncoder.build_from_corpus(\n",
    "    sentences + abs, target_vocab_size = 2**12\n",
    ")\n",
    "\n",
    "end_time = time.time()\n",
    "total_time = end_time - start_time\n",
    "\n",
    "# 초를 시, 분, 초로 변환\n",
    "hours = int(total_time // 3600)\n",
    "minutes = int((total_time % 3600) // 60)\n",
    "seconds = total_time % 60\n",
    "\n",
    "print(f\"토크나이저 총 소요 시간: {hours}시간 {minutes}분 {seconds:.2f}초\")\n",
    "tokenizer.save_to_file('D:/TJ_FInal_Project/KDJ/News_Summarization/Data/문서요약 텍스트/Preprocess/tokenizer')"
   ]
  },
  {
   "cell_type": "markdown",
   "metadata": {},
   "source": [
    "6-2. 토큰화 검증"
   ]
  },
  {
   "cell_type": "code",
   "execution_count": 37,
   "metadata": {},
   "outputs": [
    {
     "name": "stdout",
     "output_type": "stream",
     "text": [
      "토큰 크기: 4079\n",
      "\n",
      "토큰 예시: ['. ', '을_', ', ', '의_', '에_', '이_', '를_', '는_', '은_', '한_']\n",
      "\n",
      "인코딩 테스트 - 전: 누락자 발생예방 위한 홍보 접수 총력 이성훈 광양시는 지난 8일 신현숙 부시장 주재로 일자리 안정자금 지원사업의 성공적인 정착 지원을 위한 광양시 일자리 안정자금 지원단 협의회를 개최했다. 회의에는 실과소장과 읍면동장, 전담직원 등 35명이 참석한 가운데 지난 1일부터 시행하고 있는 일자리 안정자금 대상자인 30인 미만 중소기업과 소상공인들이 누락되지 않도록 홍보와 접수 지원에 대한 대책 협의를 위해 마련됐다. 일자리 안정자금 이란 2018년도 최저임금 인상에 따라 경영상의 어려움에 처할 수 있는 소상공인과 영세 중소기업의 경영부담을 완화하고, 노동자의 고용불안을 해소하기 위해 사업주에게 인건비를 지원하는 제도다. 지원대상은 월 보수액 190만원 미만의 노동자를 1개월 이상 고용한 30인 미만 고용사업주로, 최저임금 준수와 고용보험에 가입되어 있어야 한다. 일자리 안정자금 지원을 받고자 하는 사업주는 가까운 읍면동 주민센터를 방문해 신청서를 작성 제출하면 되며, 근로복지공단에서 심사를 통해 지급하게 된다. 신현숙 부시장은 일자리 안정자금을 지원받을 수 있는 대상 사업주들이 빠짐없이 신청할 수 있도록 적극적으로 안내에 힘쓰라 며 읍면동 전담직원들도 일자리 안정자금 접수가 원활히 추진될 수 있도록 이번 사업의 취지를 충분히 숙지하길 바란다 고 당부했다. 자세한 사항은 근로복지공단, 고용센터으로 연락 하거나, 일자리 안정자금 홈페이지를 참고하면 된다.\n",
      "\n",
      "인코딩 테스트 - 후: [819, 756, 143, 1067, 3511, 123, 3560, 1025, 3855, 451, 1043, 19, 60, 1536, 2575, 425, 77, 1419, 51, 191, 683, 3855, 44, 519, 56, 74, 15, 1196, 1501, 1423, 3855, 1918, 4, 2983, 35, 3499, 3855, 1152, 123, 2575, 112, 1196, 1501, 1423, 3855, 202, 399, 1188, 7, 1800, 1, 1007, 220, 99, 169, 48, 2595, 2037, 199, 47, 69, 3, 39, 264, 3228, 28, 1570, 732, 1647, 384, 77, 3788, 494, 33, 53, 1196, 1501, 1423, 3855, 2653, 35, 559, 35, 68, 175, 1443, 13, 2132, 242, 819, 756, 1637, 365, 794, 811, 21, 1025, 3855, 202, 5, 116, 3575, 1122, 7, 64, 3525, 1, 1196, 1501, 1423, 3855, 19, 1454, 2404, 288, 26, 2411, 1833, 3855, 1782, 5, 298, 602, 3591, 3855, 2310, 506, 5, 397, 27, 25, 53, 2132, 13, 101, 428, 1443, 4, 602, 1028, 2, 3184, 378, 3, 824, 1294, 962, 173, 2012, 1560, 251, 64, 195, 56, 190, 42, 287, 2679, 2690, 980, 16, 1, 202, 607, 9, 665, 2755, 1728, 410, 1875, 168, 68, 2509, 824, 882, 3137, 665, 585, 962, 10, 559, 35, 68, 175, 962, 195, 56, 86, 3, 2411, 1833, 3855, 461, 29, 21, 962, 928, 5, 1431, 978, 3397, 453, 76, 1, 1196, 1501, 1423, 3855, 1152, 586, 2921, 31, 195, 1214, 3049, 507, 2037, 199, 316, 552, 3451, 2262, 500, 1194, 2328, 3855, 1250, 496, 308, 117, 3, 2906, 488, 1440, 18, 867, 7, 89, 1080, 206, 141, 1, 51, 191, 683, 3855, 44, 2309, 1196, 1501, 1423, 2, 202, 1283, 25, 53, 1295, 195, 56, 242, 1287, 2507, 752, 500, 27, 25, 265, 2911, 1913, 5, 853, 898, 893, 111, 2037, 199, 316, 39, 264, 2728, 26, 1196, 1501, 1423, 3855, 1025, 11, 62, 501, 310, 369, 179, 25, 265, 125, 2136, 346, 921, 539, 134, 310, 683, 1235, 624, 1147, 3855, 12, 2475, 1, 3227, 891, 9, 2906, 488, 1440, 3, 962, 589, 17, 73, 756, 3855, 126, 152, 97, 3, 1196, 1501, 1423, 3855, 1029, 7, 759, 30, 496, 141, 3869]\n"
     ]
    }
   ],
   "source": [
    "tokenizer = tfds.deprecated.text.SubwordTextEncoder.load_from_file('D:/TJ_FInal_Project/KDJ/News_Summarization/Data/문서요약 텍스트/Preprocess/tokenizer')\n",
    "\n",
    "print(f'토큰 크기: {tokenizer.vocab_size}')\n",
    "print(f'\\n토큰 예시: {tokenizer.subwords[:10]}')\n",
    "print(f'\\n인코딩 테스트 - 전: {sentences[19]}')\n",
    "encodingList = tokenizer.encode(sentences[19])\n",
    "print(f'\\n인코딩 테스트 - 후: {encodingList}')"
   ]
  },
  {
   "cell_type": "markdown",
   "metadata": {},
   "source": [
    "7. 구분 토큰 추가 및 패딩"
   ]
  },
  {
   "cell_type": "code",
   "execution_count": 38,
   "metadata": {},
   "outputs": [
    {
     "name": "stdout",
     "output_type": "stream",
     "text": [
      "sentence 원본 : 정기총회 개최 올해 주요사업 확정 광양뉴스 광양시향토청년회은 지난 7일 중동 광양시새마을금고 본점 3층 갤러리에서 2018년 정기총회를 개최하고 2018년 광양발전과 광양시민을 위한 사업을 확정했다. 회원 60여명이 참석한 이날 정기총회는 지난 2월 2일 있었던 창립식 및 초대 회장단 감사 취임식에 들어온 쌀을 금호동 소재 햇빛마을주간보호센터와 광양중학교 축구부, 광양여자고등학교 축구부에 나누는 전달식이 열려 마음을 따뜻하게 했다. 올해 주요 사업으로는 가족과 함께하는 사랑의 향토농장 영국 프리미어리그 사회공헌 프로그램 프리미어 스킬스 교육 향토농장 수확물로 지역민과 함께하는 바베큐 파티 작은 음악회 전남드래곤즈 홍보 캠페인 등을 펼칠 계획이다. 김대성 회장은 광양발전과 광양시민을 위해 공감향토 이념으로 똘똘 뭉쳐 변화할 광양의 미래를 위해 역량을 갖추고 끊임없는 도전정신과 역동적인 패기로 최선을 다하는 100년 단체 광양시향토청년회 초석을 다지는 2018년이 되자 고 말했다. 한편, 광양시향토청년회는 3월 8일 정기총회 후 첫 사업으로 문화체육단 주관으로 금호동 소재 햇빛마을주간보호센터에서 센터 축구동아리 회원들에게 프리미어 스킬스를 전파했다. 김대욱 단장을 비롯한 4명의 프로축구선수 출신 회원이 8주차 교육을 준비하고 있으며 수료자에게는 프리미어 스킬스 수료증이 지급될 예정이다. 김대성 시민기자\n",
      "\n",
      "sentence 토큰화 및 패딩 결과 : [4079 1380 3092 3855  518 3855  221   56  241  271 1466 3855 2575 2889\n",
      " 3855 2575   34  375  217  670  281    9   77 1410   93  316 2575   34\n",
      "  452  713  174   12  344  446 3874  864 2137  239   41   18 1540 1380\n",
      " 3092    7 1874   12 1540 2575  404   13 2575  478    2  123  473 1466\n",
      "   22    1 1324 3855 1013 2625 1647  245 1380 3092    8   77 2089 1301\n",
      " 2592  296  216  470  426   58  227  133  649  399  642 3855 2783 3054\n",
      " 3855  714  636 2962    2  174  109  316 1977 4060 3973 3958 1652  713\n",
      " 3333  757  589   21 2575 2833 1171 1314   44    3 2575 1961 2581 3855\n",
      " 1314 3651 3686    8  965 3498 3855  193  821 1179    2  915 1117  206\n",
      "   22    1  221  682  195 2226  781   13 3529  678    4  375  217  208\n",
      "  243 3157 3855 2413   68   49 1758  493 3125 3855 1852 2413   68  311\n",
      "   54 2946  224  637  375  217  208  243   29  997  165   15  177  170\n",
      "   13 3529  222  654 2154 3855  187 1563 3009 3855 1310  203 1001  154\n",
      "  387 2215 1381 3560 2021 3855  182 2348 3360  392    1   65   36  232\n",
      " 3047 2575  404   13 2575  478    2   64 2414  375  217 3855   19 2513\n",
      "   17 4058 3975 3975 4058 3975 3975 3855 4058 3996 3960 1859 3855  897\n",
      "   27 2575    4  690    7   64 3212 1054  186   12 4058 3952 3961  161\n",
      "  807 2289 1803   13  326   47  181  370  934 1459   16   31  504  511\n",
      " 1787 2575   34  375  217  670  203  227  294    2   16  842 2404  288\n",
      "    6  308  143   12   95    1  720    3 2575   34  375  217  670 2324\n",
      " 1433 1419 1380 3092 3855  341  522 2701 3540  403  399 1389   17  174\n",
      "  109  316 1977 4060 3973 3958 1652  713 3333  757 2526  675 1314 2527\n",
      "  236 1324 1121 2413   68  311   54 2946 1796   39  187   22    1   65\n",
      "   36 2719  142  779 1844 2791    4  793 1314  567 3855 1996 3855 1324\n",
      "    6 3879 2979 3855 1383 3494   12 2027   29  487 1882  483    8 2413\n",
      "   68  311   54 2946  224   29  487  225    6 1080  179  268    1   65\n",
      "   36  232  478  214 4080    0    0    0    0    0    0    0    0    0\n",
      "    0    0    0    0    0    0    0    0    0    0    0    0    0    0\n",
      "    0    0    0    0    0    0    0    0    0    0    0    0    0    0\n",
      "    0    0    0    0    0    0    0    0    0    0    0    0    0    0\n",
      "    0    0    0    0    0    0    0    0    0    0    0    0    0    0\n",
      "    0    0    0    0    0    0    0    0    0    0    0    0    0    0\n",
      "    0    0    0    0    0    0    0    0    0    0    0    0    0    0\n",
      "    0    0    0    0    0    0    0    0    0    0    0    0    0    0\n",
      "    0    0    0    0    0    0    0    0    0    0    0    0    0    0\n",
      "    0    0    0    0    0    0    0    0    0    0    0    0    0    0\n",
      "    0    0    0    0    0    0    0    0    0    0    0    0    0    0\n",
      "    0    0    0    0    0    0    0    0    0    0    0    0    0    0\n",
      "    0    0    0    0    0    0    0    0    0    0    0    0    0    0\n",
      "    0    0    0    0    0    0    0    0    0    0    0    0    0    0\n",
      "    0    0    0    0    0    0    0    0    0    0    0    0    0    0\n",
      "    0    0    0    0    0    0    0    0    0    0    0    0    0    0\n",
      "    0    0    0    0    0    0    0    0    0    0    0    0    0    0\n",
      "    0    0    0    0    0    0    0    0    0    0    0    0    0    0\n",
      "    0    0    0    0    0    0    0    0    0    0    0    0    0    0\n",
      "    0    0    0    0    0    0    0    0    0    0    0    0    0    0\n",
      "    0    0    0    0    0    0    0    0    0    0    0    0    0    0\n",
      "    0    0    0    0    0    0    0    0    0    0    0    0    0    0\n",
      "    0    0    0    0    0    0    0    0    0    0    0    0    0    0\n",
      "    0    0    0    0    0    0    0    0    0    0    0    0    0    0\n",
      "    0    0    0    0    0    0    0    0    0    0    0    0    0    0\n",
      "    0    0    0    0    0    0    0    0    0    0    0    0    0    0\n",
      "    0    0    0    0    0    0    0    0    0    0    0    0    0    0\n",
      "    0    0    0    0    0    0    0    0    0    0    0    0    0    0\n",
      "    0    0    0    0    0    0    0    0    0    0    0    0    0    0\n",
      "    0    0    0    0    0    0    0    0    0    0    0    0    0    0\n",
      "    0    0    0    0    0    0    0    0    0    0    0    0    0    0\n",
      "    0]\n",
      "\n",
      "abs 원본 : 광양시향토청년회는 2018년 정기총회를 개최하고 교육, 음악회, 캠페인 등 올해 주요사업을 확정하는 한편 3월 8일 정기총회 후 햇빛마을주간보호센터에서 센터 축구동아리 회원들에게 프리미어 스킬스를 전파해 수료자에게는 프리미어 스킬스 수료증이 지급될 예정이다.\n",
      "\n",
      "abs 토큰화 및 패딩 결과 : [4079 2575   34  375  217  670 2324 1540 1380 3092    7 1874   12  188\n",
      "    3 1310  281    3 2021 3855   28  221   56  241  473 1466   31  474\n",
      " 1433 1419 1380 3092 3855  341 4060 3973 3958 1652  713 3333  757 2526\n",
      "  675 1314 2527  236 1324 1121 2413   68  311   54 2946 1796   39  187\n",
      "   24   29  487 1882  483    8 2413   68  311   54 2946  224   29  487\n",
      "  225    6 1080  179  268 3869 4080    0    0    0    0    0    0    0\n",
      "    0    0    0    0    0    0    0    0    0    0    0    0    0    0\n",
      "    0    0    0    0    0    0    0    0    0    0    0    0    0    0\n",
      "    0    0    0    0    0    0    0    0    0    0    0    0    0    0\n",
      "    0    0    0    0    0    0    0    0    0    0    0    0    0    0\n",
      "    0    0    0    0    0    0    0    0    0]\n",
      "\n",
      "총 소요 시간: 0분 56.93초\n"
     ]
    }
   ],
   "source": [
    "start_time = time.time()\n",
    "beforeSentence = sentences[99]\n",
    "beforeAbs = abs[99]\n",
    "\n",
    "START_TOKEN, END_TOKEN = [tokenizer.vocab_size], [tokenizer.vocab_size+1]\n",
    "VOCAB_SIZE = tokenizer.vocab_size + 2\n",
    "\n",
    "SEN_MAX_LENGTH = 799\n",
    "ABS_MAX_LENGTH = 149\n",
    "\n",
    "def tokenized_and_padding(sentences, abses):\n",
    "  tokenized_sentence, tokenized_abs = [], []\n",
    "  \n",
    "  for (sentence, abs) in zip(sentences, abses):\n",
    "    sentence = START_TOKEN + tokenizer.encode(sentence) + END_TOKEN\n",
    "    abs = START_TOKEN + tokenizer.encode(abs) + END_TOKEN\n",
    "    \n",
    "    tokenized_sentence.append(sentence)\n",
    "    tokenized_abs.append(abs)\n",
    "    \n",
    "  tokenized_sentence = tf.keras.preprocessing.sequence.pad_sequences(\n",
    "        tokenized_sentence, maxlen=SEN_MAX_LENGTH, padding='post'\n",
    "    )\n",
    "  tokenized_abs = tf.keras.preprocessing.sequence.pad_sequences(\n",
    "      tokenized_abs, maxlen=ABS_MAX_LENGTH, padding='post'\n",
    "  )\n",
    "  \n",
    "  return tokenized_sentence, tokenized_abs\n",
    "\n",
    "sentences, abs = tokenized_and_padding(sentences, abs)\n",
    "\n",
    "print(f'sentence 원본 : {beforeSentence}')\n",
    "print(f'\\nsentence 토큰화 및 패딩 결과 : {sentences[99]}')\n",
    "print(f'\\nabs 원본 : {beforeAbs}')\n",
    "print(f'\\nabs 토큰화 및 패딩 결과 : {abs[99]}')\n",
    "\n",
    "end_time = time.time()\n",
    "total_time = end_time - start_time\n",
    "minutes, seconds = divmod(total_time, 60)\n",
    "\n",
    "print(f\"\\n총 소요 시간: {int(minutes)}분 {seconds:.2f}초\")"
   ]
  },
  {
   "cell_type": "markdown",
   "metadata": {},
   "source": [
    "8. 결과 저장"
   ]
  },
  {
   "cell_type": "code",
   "execution_count": 39,
   "metadata": {},
   "outputs": [
    {
     "name": "stdout",
     "output_type": "stream",
     "text": [
      "피클 저장 완료!\n"
     ]
    }
   ],
   "source": [
    "import pickle\n",
    "\n",
    "with open('D:/TJ_FInal_Project/KDJ/News_Summarization/Data/pickle/sentences.pkl', 'wb') as f:\n",
    "    pickle.dump(sentences, f)\n",
    "\n",
    "with open('D:/TJ_FInal_Project/KDJ/News_Summarization/Data/pickle/abs.pkl', 'wb') as f:\n",
    "    pickle.dump(abs, f)\n",
    "\n",
    "print('피클 저장 완료!')"
   ]
  }
 ],
 "metadata": {
  "kernelspec": {
   "display_name": "tensor",
   "language": "python",
   "name": "python3"
  },
  "language_info": {
   "codemirror_mode": {
    "name": "ipython",
    "version": 3
   },
   "file_extension": ".py",
   "mimetype": "text/x-python",
   "name": "python",
   "nbconvert_exporter": "python",
   "pygments_lexer": "ipython3",
   "version": "3.8.18"
  }
 },
 "nbformat": 4,
 "nbformat_minor": 2
}
