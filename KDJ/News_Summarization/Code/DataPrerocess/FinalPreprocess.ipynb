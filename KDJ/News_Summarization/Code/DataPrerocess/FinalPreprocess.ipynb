{
 "cells": [
  {
   "cell_type": "markdown",
   "metadata": {},
   "source": [
    "#################################\n",
    "##    뉴스 기사 요약 전처리   ##\n",
    "#################################"
   ]
  },
  {
   "cell_type": "markdown",
   "metadata": {},
   "source": [
    "0. 라이브러리 임포트"
   ]
  },
  {
   "cell_type": "code",
   "execution_count": 1,
   "metadata": {},
   "outputs": [
    {
     "name": "stderr",
     "output_type": "stream",
     "text": [
      "c:\\Users\\G-10\\anaconda3\\envs\\tensor\\lib\\site-packages\\tqdm\\auto.py:21: TqdmWarning: IProgress not found. Please update jupyter and ipywidgets. See https://ipywidgets.readthedocs.io/en/stable/user_install.html\n",
      "  from .autonotebook import tqdm as notebook_tqdm\n"
     ]
    }
   ],
   "source": [
    "import pandas as pd\n",
    "import re\n",
    "import matplotlib.pyplot as plt\n",
    "import tensorflow as tf\n",
    "import tensorflow_datasets as tfds\n",
    "import time\n",
    "from tqdm import tqdm"
   ]
  },
  {
   "cell_type": "markdown",
   "metadata": {},
   "source": [
    "1. 데이터 불러오기 및 합치기"
   ]
  },
  {
   "cell_type": "code",
   "execution_count": 2,
   "metadata": {},
   "outputs": [],
   "source": [
    "# raw_train_df = pd.read_csv('D:/TJ_FInal_Project/KDJ/News_Summarization/Data/문서요약 텍스트/Preprocess/train.csv')\n",
    "# raw_valid_df = pd.read_csv('D:/TJ_FInal_Project/KDJ/News_Summarization/Data/문서요약 텍스트/Preprocess/valid.csv')\n",
    "\n",
    "# raw_df = pd.concat([raw_train_df, raw_valid_df], ignore_index=True)\n",
    "\n",
    "# print(f'원본 트레인 데이터 길이 : {len(raw_train_df)}')\n",
    "# print(f'원본 검증 데이터 길이 : {len(raw_valid_df)}')\n",
    "# print(f'예상 최종 데이터 길이 : {len(raw_train_df)+len(raw_valid_df)}')\n",
    "# print(f'실제 데이터 길이 : {len(raw_df)}')\n",
    "# print(raw_df.head())\n",
    "raw_df = pd.read_csv('D:/TJ_FInal_Project/KDJ/News_Summarization/Data/문서요약 텍스트/Preprocess/finalPreprocessTemp.csv')"
   ]
  },
  {
   "cell_type": "markdown",
   "metadata": {},
   "source": [
    "2. title 열 날리기"
   ]
  },
  {
   "cell_type": "code",
   "execution_count": 3,
   "metadata": {},
   "outputs": [
    {
     "name": "stdout",
     "output_type": "stream",
     "text": [
      "                                            sentence  \\\n",
      "0  ha당 조사료 400만원 작물별 차등 지원 이성훈 전라남도가 쌀 과잉문제를 근본적으...   \n",
      "1  8억 투입, 고소천사벽화 자산마을에 색채 입혀 이성훈 여수시는 원도심 일대에서 추진...   \n",
      "2  전남드래곤즈 해맞이 다짐 선수 영입 활발 이성훈 전남드래곤즈는 지난 4일 구봉산 해...   \n",
      "3  11~24일, 매실 감 참다래 등 지역특화작목 이성훈 광양시는 오는 11일부터 24...   \n",
      "4  홍콩 크루즈선사 아쿠아리우스 4, 6월 여수항 입항 이성훈 타이완의 크루즈관광객 4...   \n",
      "\n",
      "                                                 abs  sentence_length  \\\n",
      "0  전라남도가 쌀 과잉문제를 근본적으로 해결하기 위해 올해부터 벼를 심었던 논에 벼 대...              758   \n",
      "1  여수시는 컬러빌리지 사업에 8억원을 투입하여 색채와 빛 도시를 완성하여 고소천사벽화...              459   \n",
      "2  전남드래곤즈 임직원과 선수단이 4일 구봉산 정상에 올라 일출을 보며 2018년 구단...              370   \n",
      "3  광양시는 농업인들의 경쟁력을 높이고, 소득안정을 위해 매실 감 참다래 등 지역특화작...              531   \n",
      "4  올해 4월과 6월 두 차례에 걸쳐 타이완의 크루즈 관광객 4000여명이 여수에 입항...              550   \n",
      "\n",
      "   abs_length  \n",
      "0         155  \n",
      "1         118  \n",
      "2          68  \n",
      "3          68  \n",
      "4          66  \n"
     ]
    }
   ],
   "source": [
    "raw_df = raw_df.iloc[:, 2:]\n",
    "print(raw_df.head())"
   ]
  },
  {
   "cell_type": "markdown",
   "metadata": {},
   "source": [
    "3. 정규 표현식"
   ]
  },
  {
   "cell_type": "code",
   "execution_count": 4,
   "metadata": {},
   "outputs": [
    {
     "name": "stdout",
     "output_type": "stream",
     "text": [
      "정규 표현식 적용 전 데이터 프레임\n",
      "                                             sentence  \\\n",
      "20  광양상의, 기업 경기 현황 조사 기업들, 보수적 경영활동 강화 이성훈 우리 지역 기...   \n",
      "21  중마도서관 나만의 그림책 만들기 10권 제작 이성훈 광양시가 지난해 3월부터 중마도...   \n",
      "22  1월 말까지, 읍면동 농업인상담소에 신청 이성훈 광양시는 농업의 발전과 농업인의 다...   \n",
      "23  누락자 발생예방 위한 홍보 접수 총력 이성훈 광양시는 지난 8일 신현숙 부시장 주재...   \n",
      "24  어린이들의 꿈과 희망을 찾는 희망도서관 김영신 기자 아이들 눈높이에 맞춘 책장과 의...   \n",
      "25  31일까지 위택스? 이성훈 광양시는 매년 6월과 12월 두 차례 정기분으로 부과되는...   \n",
      "26  도로점용허가 필수, 규격? 이성훈 광양시는 올해 도로가에 무분별하게 난립하고 있는 ...   \n",
      "27  아이 양육하기 좋은 도시 탄력 기대 이성훈 광양시는 지난 11일 전라남도에서는 최초...   \n",
      "28  시민과 1 1 카톡방 SNS 소통행정 확대 이성훈 광양시는 지난 5일 스마트폰 사용...   \n",
      "29  운영주체 못 찾아 규모 축소 또는 건립 포기 이성훈 광양시가 옥룡면 추산리에 도선국...   \n",
      "\n",
      "                                                  abs  sentence_length  \\\n",
      "20  광양상공회의소 1분기 기업경기전망 지수를 조사한 결과 올해 경기 전망은 지난해와 큰...              627   \n",
      "21  광양시가 지난해 3월부터 중마도서관의 성인 대상 야간 프로그램인 나만의 그림책 만들...              505   \n",
      "22  광양시는 올해 과수 채소 화훼 특작, 식량작물, 기술지원 등 5개 분야 18개 사업...              576   \n",
      "23  광양시는 8일 광양시 일자리 안정자금 지원단 협의회를 개최하고 일자리 안정자금 지원...              707   \n",
      "24  희망도서관 은 책을 활용한 놀이와 체험 프로그램을 제공하는 하는 광양 유일의 어린이...             1037   \n",
      "25  광양시는 오는 16일부터 31일까지 자동차세 연납을 신청하면 10 까지 자동차세를 ...              647   \n",
      "26  광양시는 올해 민간 재활용사업자가 배치한 헌옷 수거함의 관리 방안을 검토하고 정비 ...              572   \n",
      "27  광양시가 전남최초로 유니세프로부터 아동친화도시 인증을 받아 그동안 추진해온 전국 최...              870   \n",
      "28  광양시는 스마트폰 사용자가 많이 사용하고 있는 카카오톡에 '광양시청' 계정을 개설하...              446   \n",
      "29  광양시가 추진하고 있는 도선국사 사상 수련관 조성 사업은 2019년 완공할 계획이었...             1034   \n",
      "\n",
      "    abs_length  \n",
      "20         100  \n",
      "21          82  \n",
      "22          95  \n",
      "23          74  \n",
      "24          56  \n",
      "25          53  \n",
      "26          57  \n",
      "27         124  \n",
      "28         117  \n",
      "29          85  \n",
      "\n",
      "정규 표현식 적용 후 데이터 프레임\n",
      "                                             sentence  \\\n",
      "20  광양상의, 기업 경기 현황 조사 기업들, 보수적 경영활동 강화 이성훈 우리 지역 기...   \n",
      "21  중마도서관 나만의 그림책 만들기 10권 제작 이성훈 광양시가 지난해 3월부터 중마도...   \n",
      "22  1월 말까지, 읍면동 농업인상담소에 신청 이성훈 광양시는 농업의 발전과 농업인의 다...   \n",
      "23  누락자 발생예방 위한 홍보 접수 총력 이성훈 광양시는 지난 8일 신현숙 부시장 주재...   \n",
      "24  어린이들의 꿈과 희망을 찾는 희망도서관 김영신 기자 아이들 눈높이에 맞춘 책장과 의...   \n",
      "25  31일까지 위택스? 이성훈 광양시는 매년 6월과 12월 두 차례 정기분으로 부과되는...   \n",
      "26  도로점용허가 필수, 규격? 이성훈 광양시는 올해 도로가에 무분별하게 난립하고 있는 ...   \n",
      "27  아이 양육하기 좋은 도시 탄력 기대 이성훈 광양시는 지난 11일 전라남도에서는 최초...   \n",
      "28  시민과 1 1 카톡방 SNS 소통행정 확대 이성훈 광양시는 지난 5일 스마트폰 사용...   \n",
      "29  운영주체 못 찾아 규모 축소 또는 건립 포기 이성훈 광양시가 옥룡면 추산리에 도선국...   \n",
      "\n",
      "                                                  abs  \n",
      "20  광양상공회의소 1분기 기업경기전망 지수를 조사한 결과 올해 경기 전망은 지난해와 큰...  \n",
      "21  광양시가 지난해 3월부터 중마도서관의 성인 대상 야간 프로그램인 나만의 그림책 만들...  \n",
      "22  광양시는 올해 과수 채소 화훼 특작, 식량작물, 기술지원 등 5개 분야 18개 사업...  \n",
      "23  광양시는 8일 광양시 일자리 안정자금 지원단 협의회를 개최하고 일자리 안정자금 지원...  \n",
      "24  희망도서관 은 책을 활용한 놀이와 체험 프로그램을 제공하는 하는 광양 유일의 어린이...  \n",
      "25  광양시는 오는 16일부터 31일까지 자동차세 연납을 신청하면 10 까지 자동차세를 ...  \n",
      "26  광양시는 올해 민간 재활용사업자가 배치한 헌옷 수거함의 관리 방안을 검토하고 정비 ...  \n",
      "27  광양시가 전남최초로 유니세프로부터 아동친화도시 인증을 받아 그동안 추진해온 전국 최...  \n",
      "28  광양시는 스마트폰 사용자가 많이 사용하고 있는 카카오톡에 '광양시청' 계정을 개설하...  \n",
      "29  광양시가 추진하고 있는 도선국사 사상 수련관 조성 사업은 2019년 완공할 계획이었...  \n"
     ]
    }
   ],
   "source": [
    "sentence = raw_df['sentence']\n",
    "abs = raw_df['abs']\n",
    "\n",
    "print(\"정규 표현식 적용 전 데이터 프레임\")\n",
    "print(raw_df[20:30])\n",
    "\n",
    "def regex_column(columnList):\n",
    "  if not isinstance(columnList, str):                                                   # Nan을 빈 문자열로 대체\n",
    "      return ''\n",
    "  columnList = re.sub(r'\\S+@\\S+\\.\\S+', '', columnList)                                  # 이메일 삭제\n",
    "  columnList = columnList.replace('\\n', '')                                             # 개행 삭제\n",
    "  columnList = re.sub(r'\\[.*?\\]|\\{.*?\\}|\\(.*?\\)', '', columnList)                       # 소,중,대괄호 내용 삭제\n",
    "  columnList = re.sub(r'[^가-힣a-zA-Z0-9\\u4e00-\\u9fff\\s.,!?\\'\\\"~]', ' ', columnList)    # 이상한 특수문자 삭제\n",
    "  columnList = re.sub(r'\\s+', ' ', columnList).strip()                                  # 양 끝 공백 삭제\n",
    "  return columnList\n",
    "\n",
    "sentence = sentence.apply(regex_column)\n",
    "abs = abs.apply(regex_column)\n",
    "\n",
    "df = pd.DataFrame({\n",
    "    'sentence':sentence,\n",
    "    'abs':abs\n",
    "})\n",
    "\n",
    "print(\"\\n정규 표현식 적용 후 데이터 프레임\")\n",
    "print(df[20:30])"
   ]
  },
  {
   "cell_type": "markdown",
   "metadata": {},
   "source": [
    "4. 난수 날리기"
   ]
  },
  {
   "cell_type": "code",
   "execution_count": 5,
   "metadata": {},
   "outputs": [
    {
     "name": "stdout",
     "output_type": "stream",
     "text": [
      "난수 날리기 전 데이터프레임 길이 : 1000\n",
      "난수 날리기 후 데이터프레임 길이 : 1000\n"
     ]
    }
   ],
   "source": [
    "print(f'난수 날리기 전 데이터프레임 길이 : {len(df)}')\n",
    "df = df.dropna()\n",
    "print(f'난수 날리기 후 데이터프레임 길이 : {len(df)}')"
   ]
  },
  {
   "cell_type": "markdown",
   "metadata": {},
   "source": [
    "5. 문자열 길이 제한 하기"
   ]
  },
  {
   "cell_type": "markdown",
   "metadata": {},
   "source": [
    "5-1. 문자열 길이 시각화"
   ]
  },
  {
   "cell_type": "code",
   "execution_count": 6,
   "metadata": {},
   "outputs": [
    {
     "name": "stdout",
     "output_type": "stream",
     "text": [
      "\n",
      "Sentence 열 길이:\n",
      "최대 길이: 1199, 최소 길이: 11, 평균 길이: 704.01\n",
      "\n",
      "Abs 열 길이:\n",
      "최대 길이: 190, 최소 길이: 38, 평균 길이: 95.28\n"
     ]
    },
    {
     "data": {
      "image/png": "[encoded data removed]",
      "text/plain": [
       "<Figure size 1200x600 with 2 Axes>"
      ]
     },
     "metadata": {},
     "output_type": "display_data"
    }
   ],
   "source": [
    "def data_length_distribution(df, sentence='sentence', abs='abs'):\n",
    "  df['sentence_length'] = df[sentence].apply(len)\n",
    "  df['abs_length'] = df[abs].apply(len)\n",
    "\n",
    "  sentence_max_length = df['sentence_length'].max()\n",
    "  sentence_min_length = df['sentence_length'].min()\n",
    "  sentence_mean_length = df['sentence_length'].mean()\n",
    "\n",
    "  abs_max_length = df['abs_length'].max()\n",
    "  abs_min_length = df['abs_length'].min()\n",
    "  abs_mean_length = df['abs_length'].mean()\n",
    "\n",
    "  print(\"\\nSentence 열 길이:\")\n",
    "  print(f\"최대 길이: {sentence_max_length}, 최소 길이: {sentence_min_length}, 평균 길이: {sentence_mean_length:.2f}\")\n",
    "\n",
    "  print(\"\\nAbs 열 길이:\")\n",
    "  print(f\"최대 길이: {abs_max_length}, 최소 길이: {abs_min_length}, 평균 길이: {abs_mean_length:.2f}\")\n",
    "\n",
    "  plt.figure(figsize=(12, 6))\n",
    "\n",
    "  plt.subplot(1, 2, 1)\n",
    "  plt.hist(df['sentence_length'], bins=10, color='blue', alpha=0.7)\n",
    "  plt.title('Sentence Length Distribution')\n",
    "  plt.xlabel('Length')\n",
    "  plt.ylabel('Frequency')\n",
    "\n",
    "  plt.subplot(1, 2, 2)\n",
    "  plt.hist(df['abs_length'], bins=10, color='orange', alpha=0.7)\n",
    "  plt.title('Abs Length Distribution')\n",
    "  plt.xlabel('Length')\n",
    "  plt.ylabel('Frequency')\n",
    "\n",
    "  plt.tight_layout()\n",
    "  plt.show()\n",
    "  df = df.drop(columns=['sentence_length','abs_length'])\n",
    "  \n",
    "data_length_distribution(df)\n"
   ]
  },
  {
   "cell_type": "markdown",
   "metadata": {},
   "source": [
    "5-2. 길이 제한"
   ]
  },
  {
   "cell_type": "code",
   "execution_count": 7,
   "metadata": {},
   "outputs": [
    {
     "name": "stdout",
     "output_type": "stream",
     "text": [
      "\n",
      "Sentence 열 길이:\n",
      "최대 길이: 1199, 최소 길이: 11, 평균 길이: 704.01\n",
      "\n",
      "Abs 열 길이:\n",
      "최대 길이: 190, 최소 길이: 38, 평균 길이: 95.28\n"
     ]
    },
    {
     "data": {
      "image/png": "[encoded data removed]",
      "text/plain": [
       "<Figure size 1200x600 with 2 Axes>"
      ]
     },
     "metadata": {},
     "output_type": "display_data"
    },
    {
     "name": "stdout",
     "output_type": "stream",
     "text": [
      "길이 제한 전 데이터 프레임 길이 : 1000\n",
      "길이 제한 후 데이터 프레임 길이 : 1000\n",
      "삭제 된 행 : 0\n"
     ]
    }
   ],
   "source": [
    "pre_length = len(df)\n",
    "\n",
    "df = df[(df['sentence'].str.len() > 10) & (df['sentence'].str.len() < 1200)]\n",
    "df = df[(df['abs'].str.len() > 10) & (df['abs'].str.len() < 200)]\n",
    "\n",
    "data_length_distribution(df)\n",
    "\n",
    "after_length = len(df)\n",
    "\n",
    "print(f'길이 제한 전 데이터 프레임 길이 : {pre_length}')\n",
    "print(f'길이 제한 후 데이터 프레임 길이 : {after_length}')\n",
    "print(f'삭제 된 행 : {pre_length-after_length}')\n",
    "\n",
    "df.to_csv('D:/TJ_FInal_Project/KDJ/News_Summarization/Data/문서요약 텍스트/Preprocess/finalPreprocess.csv')"
   ]
  },
  {
   "cell_type": "markdown",
   "metadata": {},
   "source": [
    "6. 토큰화"
   ]
  },
  {
   "cell_type": "markdown",
   "metadata": {},
   "source": [
    "6-1. SubwordTokenizer 실행"
   ]
  },
  {
   "cell_type": "code",
   "execution_count": 8,
   "metadata": {},
   "outputs": [
    {
     "name": "stdout",
     "output_type": "stream",
     "text": [
      "토크나이저 총 소요 시간: 51.90초\n"
     ]
    }
   ],
   "source": [
    "sentences = []\n",
    "for sentence in df['sentence']:\n",
    "    sentences.append(sentence)\n",
    "abs = []\n",
    "for sentence in df['abs']:\n",
    "    abs.append(sentence)\n",
    "\n",
    "start_time = time.time()\n",
    "\n",
    "tokenizer = tfds.deprecated.text.SubwordTextEncoder.build_from_corpus(\n",
    "    sentences + abs, target_vocab_size = 2**14\n",
    ")\n",
    "\n",
    "end_time = time.time()\n",
    "total_time = end_time - start_time\n",
    "\n",
    "print(f\"토크나이저 총 소요 시간: {total_time:.2f}초\")\n",
    "tokenizer.save_to_file('D:/TJ_FInal_Project/KDJ/News_Summarization/Data/문서요약 텍스트/Preprocess/tokenizerTemp')"
   ]
  },
  {
   "cell_type": "markdown",
   "metadata": {},
   "source": [
    "6-2. 토큰화 검증"
   ]
  },
  {
   "cell_type": "code",
   "execution_count": 9,
   "metadata": {},
   "outputs": [
    {
     "name": "stdout",
     "output_type": "stream",
     "text": [
      "토큰 크기: 15540\n",
      "\n",
      "토큰 예시: [', ', '. ', '을_', '의_', '이_', '는_', '에_', '고_', '를_', '과_']\n",
      "\n",
      "인코딩 테스트 - 전: 총 12개소 대상, 위험요소 사전 차단 김영신 기자 광양시는 광양소방서와 함께 시민들이 많이 이용하고 있는 다중이용시설 중 화재에 취약한 건축물을 대상으로 소방 특별점검을 실시했다. 이번 소방 특별점검은 화재가 발생해 인명피해가 발생한 제천 노블휘트니스 스파와 유사한 건물 3개소와 인명피해가 우려되는 다중이용시설 9개소 등 총 12개소를 대상으로 진행됐다. 소방공무원과 관련 전문가, 공무원으로 구성된 점검반은 지난 3일부터 화재 시 피난 할 수 있는 비상구 폐쇄 및 비상구나 피난통로에 장애물 설치 여부, 소방시설 정상작동 여부와 관리 상태 등 화재위험과 인명피해 우려되는 요소들을 집중적으로 점검했다. 조사결과 소방시설 불량과 건축물 임의 증축, 비상구 다른 용도 활용 등으로 적발된 곳에는 현지 시정명령 등의 조치를 취했으며, 소방서에서도 소방시설 불량사항에 대한 조치명령 발부와 취약대상 소방시설을 대상으로 소방훈련을 실시할 계획이다. 조춘규 안전총괄과장은 다중복합시설은 내부 구조가 복잡해 화재가 발생하면 연기로 인해 비상구를 찾기 매우 어렵다 며 건물 관리자는 피난통로의 장애물을 제거하고 소방시설 정상 작동을 확인하고, 이용자는 비상구를 미리 확인하는 등 모두가 관심을 가져야 인명피해를 막을 수 있다 고 당부했다. 한편, 소방당국은 제천 화재사고와 유사 건물 12개소 외에도 일반 숙박시설 등을 지속적으로 점검해 화재 발생에 강력히 대응해 나갈 방침이다.\n",
      "\n",
      "인코딩 테스트 - 후: [64, 9677, 15316, 1415, 1, 13097, 941, 1467, 4387, 15316, 77, 32, 92, 9454, 17, 43, 420, 396, 10432, 22, 7846, 15316, 49, 2176, 7, 7141, 4713, 3, 98, 2367, 15316, 8302, 3, 1531, 2, 33, 2367, 15316, 8302, 12, 9734, 9095, 5609, 13, 1999, 227, 1441, 425, 2247, 15521, 15440, 15436, 292, 7857, 15316, 13511, 17, 10500, 16, 11755, 3013, 17, 5609, 13, 7426, 7846, 15316, 4735, 941, 11, 64, 9677, 9, 98, 372, 2, 2367, 1624, 10, 106, 2217, 1, 1624, 19, 1057, 1843, 316, 12, 24, 5348, 2461, 52, 6184, 15316, 27, 14, 22, 13804, 15316, 823, 5074, 15316, 23, 13804, 119, 6184, 9913, 7, 3636, 1133, 404, 10613, 1, 8904, 2495, 849, 687, 10613, 17, 649, 5769, 11, 2176, 2093, 10, 5609, 15316, 7426, 645, 125, 294, 3605, 1843, 34, 2, 873, 304, 8904, 9012, 10, 11749, 12927, 15316, 10137, 1, 13804, 15316, 330, 13157, 15316, 731, 354, 4437, 47, 4234, 71, 2637, 2537, 14109, 132, 2670, 871, 822, 1, 2367, 8938, 2924, 8904, 9012, 7631, 42, 1513, 14109, 458, 11034, 15316, 7142, 309, 2367, 1465, 98, 2367, 2629, 3, 1670, 82, 2, 159, 1330, 2979, 13355, 12, 37, 6299, 843, 5716, 3806, 14706, 6638, 29, 9734, 9096, 3682, 20, 698, 13804, 9, 6264, 830, 5689, 18, 11755, 14825, 6, 6184, 9913, 4, 3636, 1683, 7264, 8, 8904, 6340, 849, 5185, 8194, 1, 4466, 6, 13804, 9, 5849, 4778, 6, 11, 1234, 382, 2299, 203, 5609, 9, 6721, 14, 72, 8, 345, 2, 480, 1, 2367, 11372, 12, 227, 1441, 9733, 17, 13083, 11755, 9677, 15316, 4029, 1274, 8882, 45, 392, 10266, 2461, 809, 7, 3256, 7825, 524, 434, 15330]\n"
     ]
    }
   ],
   "source": [
    "tokenizer = tfds.deprecated.text.SubwordTextEncoder.load_from_file('D:/TJ_FInal_Project/KDJ/News_Summarization/Data/문서요약 텍스트/Preprocess/tokenizerTemp')\n",
    "\n",
    "print(f'토큰 크기: {tokenizer.vocab_size}')\n",
    "print(f'\\n토큰 예시: {tokenizer.subwords[:10]}')\n",
    "print(f'\\n인코딩 테스트 - 전: {sentences[19]}')\n",
    "encodingList = tokenizer.encode(sentences[19])\n",
    "print(f'\\n인코딩 테스트 - 후: {encodingList}')"
   ]
  },
  {
   "cell_type": "markdown",
   "metadata": {},
   "source": [
    "7. 구분 토큰 추가 및 패딩"
   ]
  },
  {
   "cell_type": "code",
   "execution_count": 10,
   "metadata": {},
   "outputs": [
    {
     "name": "stdout",
     "output_type": "stream",
     "text": [
      "sentence 원본 : 3월부터 12월까지, 매주 토일 하루 2회 김영신 기자 광양 여수 순천 보성을 잇는 광역교통망이 최근 개통된데 이어 3월부터 12월까지 9개월간 광역순환시티투어버스가 운행된다. 지난 1월 22일부터 31일까지 업체로부터 공모신청을 받아 복수 지원된 광양과 순천 5개 업체를 대상으로 서류 및 제안설명 심사를 실시하고 각 시 군 추천에 의한 심사위원의 평가를 통해 선정했다. 광양은 초원관광, 대한고속, 대웅관광 등 3개 업체가 참여해 이중 가장 높은 점수를 받은 대웅관광이 광역시티투어버스 운영업체에 선정됐다. 광양에서 출발하는 광역순환 시티투어버스는 매주 토요일과 일요일, 하루 2차례 운행하며 오전에는 중마터미널 망덕포구 장도박물관 와인동굴을 순회하고 오후에는 중마터미널 여수 이순신광장 순천만 국가정원 보성 율포해변을 돌아서 오는 코스다. 순천 A관광 대표는 관광객 5명 이상이 예약 완료되면 운행을 해야 한다. 이용요금은 성인 1만원, 장애인과 군인, 경로 우대 5000원, 초중고생은 2500원이다.\n",
      "\n",
      "sentence 토큰화 및 패딩 결과 : [15540  2035  5374 ...     0     0     0]\n",
      "\n",
      "abs 원본 : 여수시가 광역시티 투어버스 제안 심사위원회 를 열고 시티투어버스를 운영할 각 시군 업체를 선정하여 3월부터 12월까지 9개월간 광역순환시티투어버스를 운행한다.\n",
      "\n",
      "abs 토큰화 및 패딩 결과 : [15540  8760  2421  8851 15316  3306  1356  3350 13409 15316     9   908\n",
      "  7527     9   970   284   741  5682 10886   165  2035  2813  4735  4482\n",
      "  2421  2541  7527     9 13126 15330 15541     0     0     0     0     0\n",
      "     0     0     0     0     0     0     0     0     0     0     0     0\n",
      "     0     0     0     0     0     0     0     0     0     0     0     0\n",
      "     0     0     0     0     0     0     0     0     0     0     0     0\n",
      "     0     0     0     0     0     0     0     0     0     0     0     0\n",
      "     0     0     0     0     0     0     0     0     0     0     0     0\n",
      "     0     0     0     0     0     0     0     0     0     0     0     0\n",
      "     0     0     0     0     0     0     0     0     0     0     0     0\n",
      "     0     0     0     0     0     0     0     0     0     0     0     0\n",
      "     0     0     0     0     0     0     0     0     0     0     0     0\n",
      "     0     0     0     0     0     0     0     0     0     0     0     0\n",
      "     0     0     0     0     0     0     0     0     0     0     0     0\n",
      "     0     0     0     0     0     0     0     0     0     0     0     0\n",
      "     0     0     0     0     0     0     0     0     0     0     0     0\n",
      "     0     0     0     0     0     0     0]\n",
      "\n",
      "총 소요 시간: 0분 1.03초\n"
     ]
    }
   ],
   "source": [
    "start_time = time.time()\n",
    "beforeSentence = sentences[99]\n",
    "beforeAbs = abs[99]\n",
    "\n",
    "START_TOKEN, END_TOKEN = [tokenizer.vocab_size], [tokenizer.vocab_size+1]\n",
    "VOCAB_SIZE = tokenizer.vocab_size + 2\n",
    "\n",
    "SEN_MAX_LENGTH = 1199\n",
    "ABS_MAX_LENGTH = 199\n",
    "\n",
    "def tokenized_and_padding(sentences, abses):\n",
    "  tokenized_sentence, tokenized_abs = [], []\n",
    "  \n",
    "  for (sentence, abs) in zip(sentences, abses):\n",
    "    sentence = START_TOKEN + tokenizer.encode(sentence) + END_TOKEN\n",
    "    abs = START_TOKEN + tokenizer.encode(abs) + END_TOKEN\n",
    "    \n",
    "    tokenized_sentence.append(sentence)\n",
    "    tokenized_abs.append(abs)\n",
    "    \n",
    "  tokenized_sentence = tf.keras.preprocessing.sequence.pad_sequences(\n",
    "        tokenized_sentence, maxlen=SEN_MAX_LENGTH, padding='post'\n",
    "    )\n",
    "  tokenized_abs = tf.keras.preprocessing.sequence.pad_sequences(\n",
    "      tokenized_abs, maxlen=ABS_MAX_LENGTH, padding='post'\n",
    "  )\n",
    "  \n",
    "  return tokenized_sentence, tokenized_abs\n",
    "\n",
    "sentences, abs = tokenized_and_padding(sentences, abs)\n",
    "\n",
    "print(f'sentence 원본 : {beforeSentence}')\n",
    "print(f'\\nsentence 토큰화 및 패딩 결과 : {sentences[99]}')\n",
    "print(f'\\nabs 원본 : {beforeAbs}')\n",
    "print(f'\\nabs 토큰화 및 패딩 결과 : {abs[99]}')\n",
    "\n",
    "end_time = time.time()\n",
    "total_time = end_time - start_time\n",
    "minutes, seconds = divmod(total_time, 60)\n",
    "\n",
    "print(f\"\\n총 소요 시간: {int(minutes)}분 {seconds:.2f}초\")"
   ]
  },
  {
   "cell_type": "markdown",
   "metadata": {},
   "source": [
    "8. 결과 저장"
   ]
  },
  {
   "cell_type": "code",
   "execution_count": 12,
   "metadata": {},
   "outputs": [
    {
     "name": "stdout",
     "output_type": "stream",
     "text": [
      "피클 저장 완료!\n"
     ]
    }
   ],
   "source": [
    "import pickle\n",
    "\n",
    "with open('D:/TJ_FInal_Project/KDJ/News_Summarization/Data/pickleTemp/sentences.pkl', 'wb') as f:\n",
    "    pickle.dump(sentences, f)\n",
    "\n",
    "with open('D:/TJ_FInal_Project/KDJ/News_Summarization/Data/pickleTemp/abs.pkl', 'wb') as f:\n",
    "    pickle.dump(abs, f)\n",
    "\n",
    "print('피클 저장 완료!')"
   ]
  }
 ],
 "metadata": {
  "kernelspec": {
   "display_name": "tensor",
   "language": "python",
   "name": "python3"
  },
  "language_info": {
   "codemirror_mode": {
    "name": "ipython",
    "version": 3
   },
   "file_extension": ".py",
   "mimetype": "text/x-python",
   "name": "python",
   "nbconvert_exporter": "python",
   "pygments_lexer": "ipython3",
   "version": "3.8.18"
  }
 },
 "nbformat": 4,
 "nbformat_minor": 2
}
